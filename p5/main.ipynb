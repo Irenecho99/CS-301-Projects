{
 "cells": [
  {
   "cell_type": "code",
   "execution_count": 1,
   "metadata": {},
   "outputs": [],
   "source": [
    "# project: p5\n",
    "# submitter: kcho36\n",
    "# partner: djang26"
   ]
  },
  {
   "cell_type": "code",
   "execution_count": 2,
   "metadata": {},
   "outputs": [
    {
     "data": {
      "text/plain": [
       "['__builtins__',\n",
       " '__cached__',\n",
       " '__doc__',\n",
       " '__file__',\n",
       " '__hurricane__',\n",
       " '__init__',\n",
       " '__loader__',\n",
       " '__name__',\n",
       " '__package__',\n",
       " '__spec__',\n",
       " 'count',\n",
       " 'get_damage',\n",
       " 'get_deaths',\n",
       " 'get_dissipated',\n",
       " 'get_formed',\n",
       " 'get_mph',\n",
       " 'get_name']"
      ]
     },
     "execution_count": 2,
     "metadata": {},
     "output_type": "execute_result"
    }
   ],
   "source": [
    "import project\n",
    "dir (project)"
   ]
  },
  {
   "cell_type": "code",
   "execution_count": 3,
   "metadata": {},
   "outputs": [
    {
     "data": {
      "text/plain": [
       "132"
      ]
     },
     "execution_count": 3,
     "metadata": {},
     "output_type": "execute_result"
    }
   ],
   "source": [
    "#q1\n",
    "def count():\n",
    "    return len(project.count())\n",
    "\n",
    "project.count()"
   ]
  },
  {
   "cell_type": "code",
   "execution_count": 4,
   "metadata": {},
   "outputs": [
    {
     "data": {
      "text/plain": [
       "'Carol'"
      ]
     },
     "execution_count": 4,
     "metadata": {},
     "output_type": "execute_result"
    }
   ],
   "source": [
    "#q2\n",
    "project.get_name(10)"
   ]
  },
  {
   "cell_type": "code",
   "execution_count": 5,
   "metadata": {},
   "outputs": [
    {
     "data": {
      "text/plain": [
       "1"
      ]
     },
     "execution_count": 5,
     "metadata": {},
     "output_type": "execute_result"
    }
   ],
   "source": [
    "#q3\n",
    "project.get_deaths(131)"
   ]
  },
  {
   "cell_type": "code",
   "execution_count": 6,
   "metadata": {
    "scrolled": true
   },
   "outputs": [
    {
     "data": {
      "text/plain": [
       "True"
      ]
     },
     "execution_count": 6,
     "metadata": {},
     "output_type": "execute_result"
    }
   ],
   "source": [
    "#q4\n",
    "x= False\n",
    "\n",
    "for i in range(project.count()):  \n",
    "    name=(project.get_name(i))\n",
    "    if name == \"Bob\":\n",
    "        x = True\n",
    "        break\n",
    "    \n",
    "x"
   ]
  },
  {
   "cell_type": "code",
   "execution_count": 7,
   "metadata": {},
   "outputs": [
    {
     "data": {
      "text/plain": [
       "3"
      ]
     },
     "execution_count": 7,
     "metadata": {},
     "output_type": "execute_result"
    }
   ],
   "source": [
    "#q5\n",
    "count = 0\n",
    "for i in range(project.count()):\n",
    "    name = (project.get_name(i))\n",
    "    if name.lower() == \"florence\":\n",
    "        count += 1\n",
    "count"
   ]
  },
  {
   "cell_type": "code",
   "execution_count": 8,
   "metadata": {},
   "outputs": [
    {
     "data": {
      "text/plain": [
       "190"
      ]
     },
     "execution_count": 8,
     "metadata": {},
     "output_type": "execute_result"
    }
   ],
   "source": [
    "#q6\n",
    "max_mph = 0\n",
    "for i in range(project.count()):\n",
    "    mph = project.get_mph(i)\n",
    "    if max_mph < mph:\n",
    "        max_mph = mph \n",
    "\n",
    "max_mph"
   ]
  },
  {
   "cell_type": "code",
   "execution_count": 9,
   "metadata": {},
   "outputs": [
    {
     "data": {
      "text/plain": [
       "'Allen'"
      ]
     },
     "execution_count": 9,
     "metadata": {},
     "output_type": "execute_result"
    }
   ],
   "source": [
    "#q7\n",
    "max_mph = 0\n",
    "for i in range(project.count()):\n",
    "    mph = project.get_mph(i)\n",
    "    if max_mph < mph:\n",
    "        max_mph = mph\n",
    "        x = i\n",
    "        \n",
    "project.get_name(x)"
   ]
  },
  {
   "cell_type": "code",
   "execution_count": 10,
   "metadata": {},
   "outputs": [
    {
     "data": {
      "text/plain": [
       "13500000"
      ]
     },
     "execution_count": 10,
     "metadata": {},
     "output_type": "execute_result"
    }
   ],
   "source": [
    "#q8\n",
    "x = None\n",
    "for i in range(project.count()):\n",
    "    name = (project.get_name(i))\n",
    "    if name == \"Dolphin\":\n",
    "        x = i\n",
    "        break\n",
    "project.get_damage(x)     \n",
    "int(float(project.get_damage(x).replace('M',''))*1000000)"
   ]
  },
  {
   "cell_type": "code",
   "execution_count": 11,
   "metadata": {},
   "outputs": [
    {
     "data": {
      "text/plain": [
       "18959"
      ]
     },
     "execution_count": 11,
     "metadata": {},
     "output_type": "execute_result"
    }
   ],
   "source": [
    "#q9\n",
    "count = 0\n",
    "for i in range(project.count()):\n",
    "    x = project.get_deaths(i)\n",
    "    count += x\n",
    "count"
   ]
  },
  {
   "cell_type": "code",
   "execution_count": 12,
   "metadata": {},
   "outputs": [
    {
     "data": {
      "text/plain": [
       "'Maria'"
      ]
     },
     "execution_count": 12,
     "metadata": {},
     "output_type": "execute_result"
    }
   ],
   "source": [
    "#q10\n",
    "# return index of deadliest hurricane over the given date range\n",
    "def deadliest_in_range(year1, year2):\n",
    "    worst_index = None\n",
    "    worst_deaths = 0\n",
    "    for index in range(project.count()):\n",
    "        year = int(project.get_formed(index)[-4:])\n",
    "        if year >= year1 and year <= year2:\n",
    "            deaths = project.get_deaths(index) \n",
    "            if worst_deaths < deaths:\n",
    "                worst_deaths = deaths\n",
    "                worst_index = index\n",
    "                \n",
    "    return project.get_name(worst_index)\n",
    "\n",
    "deadliest_in_range(2010,2019)"
   ]
  },
  {
   "cell_type": "code",
   "execution_count": 13,
   "metadata": {},
   "outputs": [
    {
     "data": {
      "text/plain": [
       "'Inez'"
      ]
     },
     "execution_count": 13,
     "metadata": {},
     "output_type": "execute_result"
    }
   ],
   "source": [
    "#q11\n",
    "# return index of deadliest hurricane over the given date range\n",
    "\n",
    "deadliest_in_range(1901,2000)"
   ]
  },
  {
   "cell_type": "code",
   "execution_count": 14,
   "metadata": {},
   "outputs": [
    {
     "data": {
      "text/plain": [
       "1899"
      ]
     },
     "execution_count": 14,
     "metadata": {},
     "output_type": "execute_result"
    }
   ],
   "source": [
    "#q12\n",
    "def deadliest_in_range():\n",
    "    worst_index = None\n",
    "    worst_deaths = 0\n",
    "    for index in range(project.count()):\n",
    "        deaths = project.get_deaths(index) \n",
    "        if worst_deaths < deaths:\n",
    "            worst_deaths = deaths\n",
    "            worst_index = index\n",
    "                \n",
    "    return int(project.get_formed(worst_index)[-4:])\n",
    "\n",
    "deadliest_in_range()"
   ]
  },
  {
   "cell_type": "code",
   "execution_count": 15,
   "metadata": {},
   "outputs": [
    {
     "data": {
      "text/plain": [
       "226500000"
      ]
     },
     "execution_count": 15,
     "metadata": {},
     "output_type": "execute_result"
    }
   ],
   "source": [
    "#q13\n",
    "def damage_deadliest_in_range(year1, year2):\n",
    "    worst_index = None\n",
    "    worst_deaths = 0\n",
    "    for index in range(project.count()):\n",
    "        year = int(project.get_formed(index)[-4:])\n",
    "        if year >= year1 and year <= year2:\n",
    "            deaths = project.get_deaths(index) \n",
    "            if worst_deaths < deaths:\n",
    "                worst_deaths = deaths\n",
    "                worst_index = index\n",
    "                \n",
    "    return int(float(project.get_damage(worst_index).replace('M',''))*1000000)\n",
    "\n",
    "damage_deadliest_in_range(1901,2000)"
   ]
  },
  {
   "cell_type": "code",
   "execution_count": 16,
   "metadata": {},
   "outputs": [
    {
     "data": {
      "text/plain": [
       "864230464997"
      ]
     },
     "execution_count": 16,
     "metadata": {},
     "output_type": "execute_result"
    }
   ],
   "source": [
    "#q14\n",
    "def convert_alphabet_to_numbers(year):\n",
    "    if year.find('K') != -1:\n",
    "        year = int(float((year).replace('K',''))*1000)\n",
    "    elif year.find('M') != -1:\n",
    "        year = int(float((year).replace('M',''))*1000000)\n",
    "    elif year.find('B') != -1:\n",
    "        year = int(float((year).replace('B',''))*1000000000)\n",
    "        \n",
    "    return year\n",
    "\n",
    "count = 0\n",
    "for i in range(project.count()):\n",
    "    x = convert_alphabet_to_numbers(project.get_damage(i))\n",
    "    count += x\n",
    "count"
   ]
  },
  {
   "cell_type": "code",
   "execution_count": 17,
   "metadata": {},
   "outputs": [],
   "source": [
    "# return number of huricanes formed in month mm\n",
    "def hurricanes_in_month(mm):\n",
    "    num_of_hurricanes = 0\n",
    "    for i in range(project.count()):\n",
    "        month = int(project.get_formed(i)[0:2])\n",
    "        if month == mm:\n",
    "            num_of_hurricanes += 1\n",
    "    return num_of_hurricanes"
   ]
  },
  {
   "cell_type": "code",
   "execution_count": 18,
   "metadata": {},
   "outputs": [
    {
     "data": {
      "text/plain": [
       "17"
      ]
     },
     "execution_count": 18,
     "metadata": {},
     "output_type": "execute_result"
    }
   ],
   "source": [
    "#q15\n",
    "hurricanes_in_month(7)"
   ]
  },
  {
   "cell_type": "code",
   "execution_count": 19,
   "metadata": {},
   "outputs": [
    {
     "data": {
      "text/plain": [
       "3"
      ]
     },
     "execution_count": 19,
     "metadata": {},
     "output_type": "execute_result"
    }
   ],
   "source": [
    "#q16\n",
    "hurricanes_in_month(12)"
   ]
  },
  {
   "cell_type": "code",
   "execution_count": 20,
   "metadata": {},
   "outputs": [
    {
     "data": {
      "text/plain": [
       "3"
      ]
     },
     "execution_count": 20,
     "metadata": {},
     "output_type": "execute_result"
    }
   ],
   "source": [
    "#q17\n",
    "hurricanes_in_month(1)"
   ]
  },
  {
   "cell_type": "code",
   "execution_count": 21,
   "metadata": {},
   "outputs": [
    {
     "data": {
      "text/plain": [
       "2"
      ]
     },
     "execution_count": 21,
     "metadata": {},
     "output_type": "execute_result"
    }
   ],
   "source": [
    "#q18\n",
    "hurricanes_in_month(5)"
   ]
  },
  {
   "cell_type": "code",
   "execution_count": 22,
   "metadata": {},
   "outputs": [
    {
     "data": {
      "text/plain": [
       "9"
      ]
     },
     "execution_count": 22,
     "metadata": {},
     "output_type": "execute_result"
    }
   ],
   "source": [
    "#q19\n",
    "def most_month_hurricanes():\n",
    "    most_index = 0\n",
    "    most_hurricanes = 0\n",
    "    for i in range(1,13):\n",
    "        temp_no = 0\n",
    "        for index in range(project.count()):\n",
    "            month = int(project.get_formed(index)[0:2])\n",
    "            if month == i :\n",
    "                temp_no += 1\n",
    "        if temp_no > most_hurricanes:\n",
    "            most_hurricanes = temp_no\n",
    "            most_index = i\n",
    "            \n",
    "    return most_index\n",
    "\n",
    "most_month_hurricanes()"
   ]
  },
  {
   "cell_type": "code",
   "execution_count": 23,
   "metadata": {},
   "outputs": [
    {
     "data": {
      "text/plain": [
       "10"
      ]
     },
     "execution_count": 23,
     "metadata": {},
     "output_type": "execute_result"
    }
   ],
   "source": [
    "#q20\n",
    "def max_year():\n",
    "    maxyear = 0\n",
    "    for index in range(project.count()):\n",
    "        year = int(project.get_formed(index)[-4:])\n",
    "        if year >= maxyear:\n",
    "            maxyear = year\n",
    "\n",
    "    return maxyear\n",
    "\n",
    "def min_year():\n",
    "    minyear = 10000\n",
    "    for index in range(project.count()):\n",
    "        year = int(project.get_formed(index)[-4:])\n",
    "        if year <= minyear:\n",
    "            minyear = year\n",
    "\n",
    "    return minyear\n",
    "            \n",
    "            \n",
    "def most_year_hurricanes():\n",
    "    count = 0\n",
    "    for i in range(min_year(),max_year()+1):\n",
    "        temp_no = 0\n",
    "        for index in range(project.count()):\n",
    "            year = int(project.get_formed(index)[-4:])\n",
    "            if year == i :\n",
    "                temp_no += 1\n",
    "        if temp_no >= 4:\n",
    "                count += 1\n",
    "                \n",
    "    return count\n",
    "\n",
    "most_year_hurricanes()"
   ]
  },
  {
   "cell_type": "code",
   "execution_count": null,
   "metadata": {},
   "outputs": [],
   "source": []
  }
 ],
 "metadata": {
  "kernelspec": {
   "display_name": "Python 3",
   "language": "python",
   "name": "python3"
  },
  "language_info": {
   "codemirror_mode": {
    "name": "ipython",
    "version": 3
   },
   "file_extension": ".py",
   "mimetype": "text/x-python",
   "name": "python",
   "nbconvert_exporter": "python",
   "pygments_lexer": "ipython3",
   "version": "3.7.4"
  }
 },
 "nbformat": 4,
 "nbformat_minor": 2
}
