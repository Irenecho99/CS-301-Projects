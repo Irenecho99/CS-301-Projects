{
 "cells": [
  {
   "cell_type": "code",
   "execution_count": 1,
   "metadata": {},
   "outputs": [],
   "source": [
    "# project: p9\n",
    "# submitter: kcho36\n",
    "# partner: djang26"
   ]
  },
  {
   "cell_type": "code",
   "execution_count": 2,
   "metadata": {},
   "outputs": [],
   "source": [
    "import os, json, csv"
   ]
  },
  {
   "cell_type": "code",
   "execution_count": 3,
   "metadata": {},
   "outputs": [
    {
     "data": {
      "text/plain": [
       "['sample_reviews.json',\n",
       " 'sample_reviews.csv',\n",
       " 'review5.json',\n",
       " 'review5.csv',\n",
       " 'review4.json',\n",
       " 'review4.csv',\n",
       " 'review3.json',\n",
       " 'review3.csv',\n",
       " 'review2.json',\n",
       " 'review2.csv',\n",
       " 'review1.json',\n",
       " 'review1.csv',\n",
       " 'products.json']"
      ]
     },
     "execution_count": 3,
     "metadata": {},
     "output_type": "execute_result"
    }
   ],
   "source": [
    "#q1\n",
    "sorted(os.listdir(\"data\"), reverse = True)"
   ]
  },
  {
   "cell_type": "code",
   "execution_count": 4,
   "metadata": {},
   "outputs": [
    {
     "data": {
      "text/plain": [
       "['data/sample_reviews.json',\n",
       " 'data/sample_reviews.csv',\n",
       " 'data/review5.json',\n",
       " 'data/review5.csv',\n",
       " 'data/review4.json',\n",
       " 'data/review4.csv',\n",
       " 'data/review3.json',\n",
       " 'data/review3.csv',\n",
       " 'data/review2.json',\n",
       " 'data/review2.csv',\n",
       " 'data/review1.json',\n",
       " 'data/review1.csv',\n",
       " 'data/products.json']"
      ]
     },
     "execution_count": 4,
     "metadata": {},
     "output_type": "execute_result"
    }
   ],
   "source": [
    "#q2\n",
    "sorted([os.path.join('data','sample_reviews.csv'), os.path.join('data','sample_reviews.json'), os.path.join('data','review5.csv'), os.path.join('data','review5.json'), os.path.join('data','review4.csv'), os.path.join('data','review4.json'), os.path.join('data','review3.csv'), os.path.join('data','review3.json'), os.path.join('data','review2.csv'), os.path.join('data','review2.json'), os.path.join('data','review1.csv'), os.path.join('data','review1.json'), os.path.join('data','products.json')], reverse = True)"
   ]
  },
  {
   "cell_type": "code",
   "execution_count": 5,
   "metadata": {},
   "outputs": [
    {
     "data": {
      "text/plain": [
       "['data/sample_reviews.csv',\n",
       " 'data/review5.csv',\n",
       " 'data/review4.csv',\n",
       " 'data/review3.csv',\n",
       " 'data/review2.csv',\n",
       " 'data/review1.csv']"
      ]
     },
     "execution_count": 5,
     "metadata": {},
     "output_type": "execute_result"
    }
   ],
   "source": [
    "#q3\n",
    "csv_data = []\n",
    "for file in os.listdir(\"data\"):\n",
    "    if file.find(\".csv\") != -1:\n",
    "        csv_path = os.path.join(\"data\", file)\n",
    "        csv_data.append(csv_path)\n",
    "csv_files = sorted(csv_data, reverse = True)\n",
    "csv_files"
   ]
  },
  {
   "cell_type": "code",
   "execution_count": 6,
   "metadata": {},
   "outputs": [
    {
     "data": {
      "text/plain": [
       "['data/review5.json',\n",
       " 'data/review5.csv',\n",
       " 'data/review4.json',\n",
       " 'data/review4.csv',\n",
       " 'data/review3.json',\n",
       " 'data/review3.csv',\n",
       " 'data/review2.json',\n",
       " 'data/review2.csv',\n",
       " 'data/review1.json',\n",
       " 'data/review1.csv']"
      ]
     },
     "execution_count": 6,
     "metadata": {},
     "output_type": "execute_result"
    }
   ],
   "source": [
    "#q4\n",
    "review_data = []\n",
    "for file in os.listdir(\"data\"):\n",
    "    if file[0:6] == \"review\":\n",
    "    #if file.find(\"review\") != -1:\n",
    "        review_path = os.path.join(\"data\", file)\n",
    "        review_data.append(review_path)\n",
    "all_files = sorted(review_data, reverse = True)\n",
    "all_files"
   ]
  },
  {
   "cell_type": "code",
   "execution_count": 7,
   "metadata": {},
   "outputs": [
    {
     "data": {
      "text/plain": [
       "{'B00QFQRELG': 'Amazon 9W PowerFast Official OEM USB Charger and Power Adapter for Fire Tablets and Kindle eReaders',\n",
       " 'B01BH83OOM': 'Amazon Tap Smart Assistant Alexa enabled (black) Brand New',\n",
       " 'B00ZV9PXP2': 'All-New Kindle E-reader - Black, 6\" Glare-Free Touchscreen Display, Wi-Fi - Includes Special Offers',\n",
       " 'B0751RGYJV': 'Amazon Echo (2nd Generation) Smart Assistant Oak Finish Priority Shipping',\n",
       " 'B00IOY8XWQ': 'Kindle Voyage E-reader, 6 High-Resolution Display (300 ppi) with Adaptive Built-in Light, PagePress Sensors, Wi-Fi - Includes Special Offers',\n",
       " 'B0752151W6': 'All-new Echo (2nd Generation) with improved sound, powered by Dolby, and a new design Walnut Finish',\n",
       " 'B018Y226XO': 'Fire Kids Edition Tablet, 7 Display, Wi-Fi, 16 GB, Pink Kid-Proof Case',\n",
       " 'B01ACEKAJY': 'All-New Fire HD 8 Tablet, 8 HD Display, Wi-Fi, 32 GB - Includes Special Offers, Black',\n",
       " 'B01AHB9CYG': 'All-New Fire HD 8 Tablet, 8 HD Display, Wi-Fi, 32 GB - Includes Special Offers, Magenta',\n",
       " 'B01AHB9CN2': 'All-New Fire HD 8 Tablet, 8 HD Display, Wi-Fi, 16 GB - Includes Special Offers, Magenta',\n",
       " 'B00VINDBJK': 'Kindle Oasis E-reader with Leather Charging Cover - Merlot, 6 High-Resolution Display (300 ppi), Wi-Fi - Includes Special Offers',\n",
       " 'B01AHB9C1E': 'Fire HD 8 Tablet with Alexa, 8 HD Display, 32 GB, Tangerine - with Special Offers',\n",
       " 'B018Y229OU': 'Fire Tablet, 7 Display, Wi-Fi, 8 GB - Includes Special Offers, Magenta'}"
      ]
     },
     "execution_count": 7,
     "metadata": {},
     "output_type": "execute_result"
    }
   ],
   "source": [
    "#q5\n",
    "f = open(os.path.join(\"data\", \"products.json\"), encoding=\"utf-8\")\n",
    "json_str = f.read()\n",
    "f.close()\n",
    "\n",
    "data = json.loads(json_str)\n",
    "data"
   ]
  },
  {
   "cell_type": "code",
   "execution_count": 8,
   "metadata": {},
   "outputs": [],
   "source": [
    "f2 = open(os.path.join(\"data\", \"review1.csv\"), encoding=\"utf-8\")\n",
    "reader = csv.DictReader(f2)\n",
    "# for row in reader:\n",
    "#     print(row)\n",
    "f2.close()"
   ]
  },
  {
   "cell_type": "code",
   "execution_count": 9,
   "metadata": {},
   "outputs": [],
   "source": [
    "def process_csv(filename):\n",
    "    example_file = open(filename, encoding = \"utf-8\")\n",
    "    example_reader = csv.reader(example_file)\n",
    "    example_data = list(example_reader)[1:]\n",
    "    example_file.close()\n",
    "    return example_data"
   ]
  },
  {
   "cell_type": "code",
   "execution_count": 10,
   "metadata": {},
   "outputs": [],
   "source": [
    "def find_review(data, id_num):\n",
    "    for file in csv_data:\n",
    "        reviews = process_csv(file)\n",
    "        for lines in reviews:\n",
    "            #print(lines[0])\n",
    "            if (lines[0] == str(id_num)):\n",
    "                return lines[2]"
   ]
  },
  {
   "cell_type": "code",
   "execution_count": 11,
   "metadata": {},
   "outputs": [
    {
     "data": {
      "text/plain": [
       "'It does what it is suppose to. No problems with it...'"
      ]
     },
     "execution_count": 11,
     "metadata": {},
     "output_type": "execute_result"
    }
   ],
   "source": [
    "#q6\n",
    "find_review(process_csv(os.path.join(\"data\",\"review1.csv\")), 1410)"
   ]
  },
  {
   "cell_type": "code",
   "execution_count": 12,
   "metadata": {},
   "outputs": [
    {
     "data": {
      "text/plain": [
       "'I hate amazon app store. Nothing good in there. The tablet is too slow for what I do... it is good for reading only....'"
      ]
     },
     "execution_count": 12,
     "metadata": {},
     "output_type": "execute_result"
    }
   ],
   "source": [
    "#q7\n",
    "find_review(process_csv(os.path.join(\"data\", \"review1.csv\")), 69899)"
   ]
  },
  {
   "cell_type": "code",
   "execution_count": 13,
   "metadata": {},
   "outputs": [],
   "source": [
    "def find_review(data, id_num):\n",
    "    for file in csv_data:\n",
    "        reviews = process_csv(file)\n",
    "        for lines in reviews:\n",
    "            #print(lines[0])\n",
    "            if (lines[0] == str(id_num)):\n",
    "                return lines[1], file"
   ]
  },
  {
   "cell_type": "code",
   "execution_count": 14,
   "metadata": {},
   "outputs": [
    {
     "data": {
      "text/plain": [
       "'Perfection'"
      ]
     },
     "execution_count": 14,
     "metadata": {},
     "output_type": "execute_result"
    }
   ],
   "source": [
    "#q8\n",
    "find_review(process_csv(os.path.join(\"data\",\"review1.csv\")), 28013)[0]"
   ]
  },
  {
   "cell_type": "code",
   "execution_count": 15,
   "metadata": {},
   "outputs": [
    {
     "data": {
      "text/plain": [
       "'review3.csv'"
      ]
     },
     "execution_count": 15,
     "metadata": {},
     "output_type": "execute_result"
    }
   ],
   "source": [
    "#q9\n",
    "h1, h2 = find_review(process_csv(os.path.join(\"data\",\"review1.csv\")), 28013)\n",
    "os.path.split(h2)[1]"
   ]
  },
  {
   "cell_type": "code",
   "execution_count": 16,
   "metadata": {},
   "outputs": [
    {
     "data": {
      "text/plain": [
       "['data/sample_reviews.json',\n",
       " 'data/review5.json',\n",
       " 'data/review4.json',\n",
       " 'data/review3.json',\n",
       " 'data/review2.json',\n",
       " 'data/review1.json',\n",
       " 'data/products.json']"
      ]
     },
     "execution_count": 16,
     "metadata": {},
     "output_type": "execute_result"
    }
   ],
   "source": [
    "json_data = []\n",
    "for file in os.listdir(\"data\"):\n",
    "    if file.find(\".json\") != -1:\n",
    "        json_path = os.path.join(\"data\", file)\n",
    "        json_data.append(json_path)\n",
    "json_files = sorted(json_data, reverse = True)\n",
    "json_files"
   ]
  },
  {
   "cell_type": "code",
   "execution_count": 17,
   "metadata": {},
   "outputs": [
    {
     "data": {
      "text/plain": [
       "{'10101': ['Mikey123456789', 'B00QFQRELG'],\n",
       " '99904': ['diamond', 'B00QFQRELG'],\n",
       " '89604': ['Pat91', 'B00QFQRELG'],\n",
       " '58704': ['Frank', 'B00QFQRELG'],\n",
       " '38104': ['LADYD92', 'B00QFQRELG']}"
      ]
     },
     "execution_count": 17,
     "metadata": {},
     "output_type": "execute_result"
    }
   ],
   "source": [
    "#q10\n",
    "def read_json (path, file):\n",
    "    f = open(os.path.join(path, file), encoding=\"utf-8\")\n",
    "    json_str = f.read()\n",
    "    f.close()\n",
    "    data = json.loads(json_str)\n",
    "    return data\n",
    "read_json (\"data\", \"sample_reviews.json\")"
   ]
  },
  {
   "cell_type": "code",
   "execution_count": 18,
   "metadata": {},
   "outputs": [
    {
     "data": {
      "text/plain": [
       "Review(id=68358, username='Preacherman', asin='B01BH83OOM', title='Easy to set up', text='Enjoying the product and feel the ease of use is good.', rating=5, do_recommend=True, num_helpful=0, date='2017-07-07')"
      ]
     },
     "execution_count": 18,
     "metadata": {},
     "output_type": "execute_result"
    }
   ],
   "source": [
    "import collections\n",
    "Review = collections.namedtuple(\"Review\", [\"id\", \"username\", \"asin\", \"title\", \"text\", \"rating\", \"do_recommend\", \"num_helpful\", \"date\"])\n",
    "reviews = Review(68358, \"Preacherman\", \"B01BH83OOM\", \"Easy to set up\" , \"Enjoying the product and feel the ease of use is good.\", 5, True, 0, \"2017-07-07\")\n",
    "reviews"
   ]
  },
  {
   "cell_type": "code",
   "execution_count": 19,
   "metadata": {},
   "outputs": [],
   "source": [
    "def get_reviews(csv,json):\n",
    "    Review = collections.namedtuple(\"Review\", [\"id\", \"username\", \"asin\", \"title\", \"text\", \"rating\", \"do_recommend\", \"num_helpful\", \"date\"])\n",
    "    \n",
    "    reviews = []\n",
    "    csv_data = process_csv(os.path.join(\"data\", csv))\n",
    "    try:\n",
    "        json = read_json (\"data\", json)\n",
    "    except:\n",
    "        return []\n",
    "    for lines in csv_data:\n",
    "        try:\n",
    "            \n",
    "            temp = []\n",
    "            temp.append(int(lines[0]))\n",
    "            temp.append(json[str(temp[0])] [0])\n",
    "            temp.append(json[str(temp[0])] [1])\n",
    "            for i in range(1,7):\n",
    "                if i == 3:\n",
    "                    temp.append(int(lines[i]))\n",
    "                elif i == 4:\n",
    "                    temp.append((lines[i]) == \"True\") \n",
    "                elif i == 5:\n",
    "                    temp.append(int(lines[i]))\n",
    "                else:    \n",
    "                    temp.append(lines[i])\n",
    "            \n",
    "            reviews.append(Review(*temp))\n",
    "        except:\n",
    "            pass\n",
    "    return reviews"
   ]
  },
  {
   "cell_type": "code",
   "execution_count": 20,
   "metadata": {},
   "outputs": [
    {
     "data": {
      "text/plain": [
       "[Review(id=10101, username='Mikey123456789', asin='B00QFQRELG', title='A charger', text='It seems to work just like any other usb plug in charger.', rating=5, do_recommend=True, num_helpful=0, date='2017-01-02'),\n",
       " Review(id=99904, username='diamond', asin='B00QFQRELG', title='amazon power fast usb charger', text='got this for my kindle 7 tablet . Does an excellent job charging the kindle fire 7 a lot faster than the one it came with the kindle fire', rating=5, do_recommend=True, num_helpful=2, date='2016-06-03'),\n",
       " Review(id=89604, username='Pat91', asin='B00QFQRELG', title='Amazon powerfast wall charger', text='Best kindle charger ever. Took 30 minutes to being my kindle back to life.', rating=5, do_recommend=True, num_helpful=0, date='2016-11-21'),\n",
       " Review(id=58704, username='Frank', asin='B00QFQRELG', title='correct plug for kindle', text='Quickly charges kindle so son can use it. Worked great right out of the package', rating=5, do_recommend=True, num_helpful=0, date='2016-10-14'),\n",
       " Review(id=38104, username='LADYD92', asin='B00QFQRELG', title='Fast Charger', text='Bought this charger for the Kindle voyage and its great.', rating=5, do_recommend=True, num_helpful=0, date='2016-09-30')]"
      ]
     },
     "execution_count": 20,
     "metadata": {},
     "output_type": "execute_result"
    }
   ],
   "source": [
    "#q11\n",
    "get_reviews('sample_reviews.csv', 'sample_reviews.json')"
   ]
  },
  {
   "cell_type": "code",
   "execution_count": 21,
   "metadata": {},
   "outputs": [
    {
     "data": {
      "text/plain": [
       "[Review(id=10101, username='Mikey123456789', asin='B00QFQRELG', title='A charger', text='It seems to work just like any other usb plug in charger.', rating=5, do_recommend=True, num_helpful=0, date='2017-01-02'),\n",
       " Review(id=99904, username='diamond', asin='B00QFQRELG', title='amazon power fast usb charger', text='got this for my kindle 7 tablet . Does an excellent job charging the kindle fire 7 a lot faster than the one it came with the kindle fire', rating=5, do_recommend=True, num_helpful=2, date='2016-06-03'),\n",
       " Review(id=89604, username='Pat91', asin='B00QFQRELG', title='Amazon powerfast wall charger', text='Best kindle charger ever. Took 30 minutes to being my kindle back to life.', rating=5, do_recommend=True, num_helpful=0, date='2016-11-21'),\n",
       " Review(id=58704, username='Frank', asin='B00QFQRELG', title='correct plug for kindle', text='Quickly charges kindle so son can use it. Worked great right out of the package', rating=5, do_recommend=True, num_helpful=0, date='2016-10-14'),\n",
       " Review(id=38104, username='LADYD92', asin='B00QFQRELG', title='Fast Charger', text='Bought this charger for the Kindle voyage and its great.', rating=5, do_recommend=True, num_helpful=0, date='2016-09-30'),\n",
       " Review(id=76407, username='RobT', asin='B00QFQRELG', title='Good charger', text='This wall charger works exactly as described for the Kindle Paperwhite.', rating=5, do_recommend=True, num_helpful=0, date='2016-07-22'),\n",
       " Review(id=83810, username='Iodine', asin='B00QFQRELG', title='Great item', text='Have been using this item and it seems to be working quite well.', rating=5, do_recommend=True, num_helpful=0, date='2017-03-15'),\n",
       " Review(id=32310, username='Akki', asin='B00QFQRELG', title='Nice one', text='Good one and working without any issues. Slim and portable', rating=5, do_recommend=True, num_helpful=0, date='2016-06-24'),\n",
       " Review(id=22010, username='STRIPYGOOSE', asin='B00QFQRELG', title='not any faster', text='it does not charge any faster than regular charger.', rating=3, do_recommend=False, num_helpful=0, date='2016-08-18'),\n",
       " Review(id=1410, username='Jk60', asin='B00QFQRELG', title='Satisfied', text='It does what it is suppose to. No problems with it...', rating=4, do_recommend=True, num_helpful=0, date='2016-12-07')]"
      ]
     },
     "execution_count": 21,
     "metadata": {},
     "output_type": "execute_result"
    }
   ],
   "source": [
    "#q12\n",
    "get_reviews('review1.csv', 'review1.json')[:10]"
   ]
  },
  {
   "cell_type": "code",
   "execution_count": 22,
   "metadata": {},
   "outputs": [
    {
     "data": {
      "text/plain": [
       "[Review(id=25136, username='Angrydagg', asin='B018Y229OU', title='Nice features for the price.', text='For the price this tables does everything I need. so far.', rating=4, do_recommend=True, num_helpful=0, date='2015-12-30'),\n",
       " Review(id=84039, username='Appman2015', asin='B018Y229OU', title='Great for xmas', text='So far I have bought three of these of tablets and they love it', rating=4, do_recommend=True, num_helpful=1, date='2015-12-30'),\n",
       " Review(id=22239, username='SuzieQ', asin='B018Y229OU', title='great for pre teens', text='i am glad i got them for my grand children they r enjoying them', rating=5, do_recommend=True, num_helpful=0, date='2015-12-31'),\n",
       " Review(id=70842, username='Gracie', asin='B018Y229OU', title='Great kindle', text='Purchase was good. Very easy to set up and use. Clear screen. Easy to charge. Would like more storage.', rating=5, do_recommend=True, num_helpful=0, date='2015-12-31'),\n",
       " Review(id=60542, username='Jeremyjeepster', asin='B018Y229OU', title='Good entry level tablet reader.', text='His is a very economical entry level tablet. Great for kids or for first time users.', rating=4, do_recommend=True, num_helpful=0, date='2015-12-31'),\n",
       " Review(id=9042, username='kinglowe78', asin='B018Y229OU', title='Good Deal', text='Real good deal. Nice present for those who want a tablet', rating=4, do_recommend=True, num_helpful=1, date='2016-01-01'),\n",
       " Review(id=98845, username='jamal', asin='B018Y229OU', title='good basic', text='Good gift for basic Internet use browsing emails .', rating=3, do_recommend=True, num_helpful=1, date='2016-01-01'),\n",
       " Review(id=37045, username='CaOk', asin='B018Y229OU', title='decent budget tablet that does what it suppose to', text='Nothing fancy. A good budget tablet that does what It suppose to do', rating=4, do_recommend=True, num_helpful=0, date='2016-01-01'),\n",
       " Review(id=26745, username='Tablet2', asin='B018Y229OU', title='Affordable tablet', text='Bought tablet for my five year old nephew. Is affordable and has good specs. Easy to use. Camera and video are good. My nephew has no problem using it', rating=4, do_recommend=True, num_helpful=0, date='2016-01-01'),\n",
       " Review(id=3248, username='Tims54913', asin='B018Y229OU', title='Great tablet', text='If your connected to amazon the tablet is great to use.', rating=5, do_recommend=True, num_helpful=0, date='2016-01-02')]"
      ]
     },
     "execution_count": 22,
     "metadata": {},
     "output_type": "execute_result"
    }
   ],
   "source": [
    "#q13:\n",
    "get_reviews('review2.csv', 'review2.json')[-10:]"
   ]
  },
  {
   "cell_type": "code",
   "execution_count": 23,
   "metadata": {},
   "outputs": [
    {
     "data": {
      "text/plain": [
       "['data/review5.csv',\n",
       " 'data/review4.csv',\n",
       " 'data/review3.csv',\n",
       " 'data/review2.csv',\n",
       " 'data/review1.csv']"
      ]
     },
     "execution_count": 23,
     "metadata": {},
     "output_type": "execute_result"
    }
   ],
   "source": [
    "csv_data = []\n",
    "for file in os.listdir(\"data\"):\n",
    "    if file.find(\".csv\") != -1:\n",
    "        if file[0:6] == \"review\":\n",
    "            csv_path = os.path.join(\"data\", file)\n",
    "            csv_data.append(csv_path)\n",
    "sorted(csv_data, reverse = True)"
   ]
  },
  {
   "cell_type": "code",
   "execution_count": 24,
   "metadata": {},
   "outputs": [],
   "source": [
    "def get_reviews_id(id_num):\n",
    "    for x in csv_data:\n",
    "        reviews_total = get_reviews(x[5:], x[-11:-4] +'.json')\n",
    "        for i in range(len(reviews_total)):\n",
    "            if reviews_total[i][0] == id_num:\n",
    "                return reviews_total[i]"
   ]
  },
  {
   "cell_type": "code",
   "execution_count": 25,
   "metadata": {},
   "outputs": [
    {
     "data": {
      "text/plain": [
       "Review(id=84713, username='mmolly1', asin='B01AHB9CN2', title='Great product', text='This product is very user friendly and it is very lightweight', rating=5, do_recommend=True, num_helpful=0, date='2017-01-08')"
      ]
     },
     "execution_count": 25,
     "metadata": {},
     "output_type": "execute_result"
    }
   ],
   "source": [
    "#q14:\n",
    "get_reviews_id(84713)"
   ]
  },
  {
   "cell_type": "code",
   "execution_count": 26,
   "metadata": {},
   "outputs": [
    {
     "data": {
      "text/plain": [
       "Review(id=42931, username='tbistone', asin='B01BH83OOM', title='Amazing', text='I literally use this thing every single day. Love it.', rating=5, do_recommend=True, num_helpful=0, date='2016-12-20')"
      ]
     },
     "execution_count": 26,
     "metadata": {},
     "output_type": "execute_result"
    }
   ],
   "source": [
    "#q15:\n",
    "get_reviews_id(42931)"
   ]
  },
  {
   "cell_type": "code",
   "execution_count": 27,
   "metadata": {},
   "outputs": [
    {
     "data": {
      "text/plain": [
       "[Review(id=74, username='Wayne', asin='B01AHB9CN2', title='Kindle upgrade', text='Gave this to my wife for Christmas. Upgraded from the original Kindle. She thoroughly enjoys it.', rating=5, do_recommend=True, num_helpful=0, date='2016-12-31'),\n",
       " Review(id=82, username='KKLORRAINE', asin='B01AHB9CN2', title='Good', text='Great for reading and Netflix. Fits nice in purse. Good price.', rating=4, do_recommend=True, num_helpful=0, date='2017-04-07'),\n",
       " Review(id=110, username='nell', asin='B00IOY8XWQ', title='I love it', text='Prefect for all reading conditions and environments. I take it everywhere.', rating=5, do_recommend=True, num_helpful=0, date='2016-07-09'),\n",
       " Review(id=122, username='apple21man', asin='B01BH83OOM', title='A great assistant', text='It works well it takes time for it to know your vocabulary', rating=5, do_recommend=True, num_helpful=0, date='2017-01-23'),\n",
       " Review(id=247, username='rockydon1', asin='B018Y229OU', title='great', text='The Kindle fire is a great product. Will do so many things. Would recommend to anyone.', rating=5, do_recommend=True, num_helpful=0, date='2015-12-29'),\n",
       " Review(id=251, username='Cheechu821', asin='B018Y229OU', title='Great product for its price', text='I purchased the tablet as a screen for my drink and it worked just fine', rating=3, do_recommend=True, num_helpful=0, date='2016-02-19'),\n",
       " Review(id=263, username='aram58', asin='B018Y229OU', title='love the tablet', text='I would recommend this tablet to anyone that is interested in one. It is just as good as a Samsung one and half the price.', rating=5, do_recommend=True, num_helpful=0, date='2016-07-08'),\n",
       " Review(id=271, username='NMGPRO', asin='B018Y229OU', title='Good little tablet', text='I purchased this to have a smaller footprint tablet. Could use more popular apps but still great for keeping the library at the tip of the fingers and a camera to boot.', rating=5, do_recommend=True, num_helpful=0, date='2016-01-21'),\n",
       " Review(id=275, username='MikeGA', asin='B018Y229OU', title='Great for Amazon', text='This product is a great entry level tablet. It is limited in both memory and function.', rating=5, do_recommend=True, num_helpful=0, date='2016-01-05'),\n",
       " Review(id=327, username='ritter6281', asin='B018Y229OU', title='Awesome tablet.', text='This tablet is better than any other tablet of the same cost range. My son saved up to buy his own tablet and had similar priced tablets break or have software issues. This tablet has a nice quality screen and it is nice to be able to not be forced to do everything through Amazon despite it being an Amazon tablet. The option of a Best Buy replacement plan is handy when getting the tablet for kids.', rating=5, do_recommend=True, num_helpful=0, date='2016-04-09')]"
      ]
     },
     "execution_count": 27,
     "metadata": {},
     "output_type": "execute_result"
    }
   ],
   "source": [
    "#q16:\n",
    "reviews = []\n",
    "reviews += get_reviews('review1.csv', 'review1.json')\n",
    "reviews += get_reviews('review2.csv', 'review2.json')\n",
    "reviews += get_reviews('review3.csv', 'review3.json')\n",
    "reviews += get_reviews('review4.csv', 'review4.json')\n",
    "reviews += get_reviews('review5.csv', 'review5.json')\n",
    "reviews.sort(key=lambda x: getattr(x, \"id\"), reverse=False)\n",
    "sorted(reviews[:10])"
   ]
  },
  {
   "cell_type": "code",
   "execution_count": 28,
   "metadata": {},
   "outputs": [
    {
     "data": {
      "text/plain": [
       "165"
      ]
     },
     "execution_count": 28,
     "metadata": {},
     "output_type": "execute_result"
    }
   ],
   "source": [
    "#q17:\n",
    "asin_bucket = {}\n",
    "for review in reviews:\n",
    "    if data[review.asin] not in asin_bucket:\n",
    "        asin_bucket[data[review.asin]] = 0\n",
    "    asin_bucket[data[review.asin]] += 1\n",
    "asin_bucket[\"Amazon Tap Smart Assistant Alexa enabled (black) Brand New\"]"
   ]
  },
  {
   "cell_type": "code",
   "execution_count": 29,
   "metadata": {},
   "outputs": [
    {
     "data": {
      "text/plain": [
       "12"
      ]
     },
     "execution_count": 29,
     "metadata": {},
     "output_type": "execute_result"
    }
   ],
   "source": [
    "#q18:\n",
    "asin_bucket[\"All-New Fire HD 8 Tablet, 8 HD Display, Wi-Fi, 32 GB - Includes Special Offers, Black\"]"
   ]
  },
  {
   "cell_type": "code",
   "execution_count": 30,
   "metadata": {},
   "outputs": [
    {
     "data": {
      "text/plain": [
       "'Fire Tablet, 7 Display, Wi-Fi, 8 GB - Includes Special Offers, Magenta'"
      ]
     },
     "execution_count": 30,
     "metadata": {},
     "output_type": "execute_result"
    }
   ],
   "source": [
    "#q19:\n",
    "asin_bucket\n",
    "asin_bucket_reverse = {}\n",
    "for k in asin_bucket:\n",
    "    asin_bucket_reverse[asin_bucket[k]] = k\n",
    "asin_bucket_reverse\n",
    "    \n",
    "most_reviewed = asin_bucket_reverse[sorted(asin_bucket_reverse.keys(), reverse=True)[0]]\n",
    "most_reviewed"
   ]
  },
  {
   "cell_type": "code",
   "execution_count": 31,
   "metadata": {},
   "outputs": [],
   "source": [
    "def get_helpful_reviews(title):\n",
    "    helpful = 0\n",
    "    helpful_review = None\n",
    "    for review in reviews:\n",
    "        if data[review.asin] == title:\n",
    "            if review.num_helpful > helpful:\n",
    "                helpful = review.num_helpful\n",
    "                helpful_review = review\n",
    "        \n",
    "    return helpful_review"
   ]
  },
  {
   "cell_type": "code",
   "execution_count": 32,
   "metadata": {},
   "outputs": [
    {
     "data": {
      "text/plain": [
       "Review(id=85969, username='Beninkc', asin='B018Y229OU', title='5 star device crippled by amazon', text='This device would be the best possible tablet for the money if it had Google Play. However Amazon chose to block access to it. This took their well made tablet with a beautiful screen and great performance from an amazing value to a waste of money. This is my last amazon branded product.If you use a lot of apps or want specific apps shop for another device.', rating=1, do_recommend=False, num_helpful=20, date='2016-02-14')"
      ]
     },
     "execution_count": 32,
     "metadata": {},
     "output_type": "execute_result"
    }
   ],
   "source": [
    "#q20:\n",
    "get_helpful_reviews(most_reviewed)"
   ]
  },
  {
   "cell_type": "code",
   "execution_count": 33,
   "metadata": {},
   "outputs": [],
   "source": [
    "%matplotlib inline"
   ]
  },
  {
   "cell_type": "code",
   "execution_count": 34,
   "metadata": {},
   "outputs": [],
   "source": [
    "import pandas as pd\n",
    "\n",
    "def scatter(x, y, xlabel=\"please label me!\", ylabel=\"please label me!\"):\n",
    "    df = pd.DataFrame({\"x\":x, \"y\":y})\n",
    "    ax = df.plot.scatter(x=\"x\", y=\"y\", color=\"black\", fontsize=16, xlim=0, ylim=0)\n",
    "    ax.set_xlabel(xlabel, fontsize=16)\n",
    "    ax.set_ylabel(ylabel, fontsize=16)\n",
    "    ax.get_xaxis().get_major_formatter().set_scientific(False)\n",
    "    ax.get_yaxis().get_major_formatter().set_scientific(False)"
   ]
  },
  {
   "cell_type": "code",
   "execution_count": 35,
   "metadata": {},
   "outputs": [
    {
     "data": {
      "text/plain": [
       "3798"
      ]
     },
     "execution_count": 35,
     "metadata": {},
     "output_type": "execute_result"
    }
   ],
   "source": [
    "#q21:\n",
    "username_list = []\n",
    "for i in range(len(reviews)):\n",
    "    if reviews[i][1] not in username_list:\n",
    "        username_list.append(reviews[i][1])\n",
    "        \n",
    "len(set(username_list))"
   ]
  },
  {
   "cell_type": "code",
   "execution_count": 36,
   "metadata": {},
   "outputs": [
    {
     "data": {
      "text/plain": [
       "{'Dave': 5,\n",
       " 'Steve': 4,\n",
       " 'Mike': 4,\n",
       " '1234': 4,\n",
       " 'Susan': 4,\n",
       " 'Angie': 4,\n",
       " 'Chris': 4,\n",
       " 'Missy': 4,\n",
       " 'Pete': 3,\n",
       " 'Anonymous': 3,\n",
       " 'Josh': 3,\n",
       " 'Charles': 3,\n",
       " 'Rick': 3,\n",
       " 'Dani': 3,\n",
       " 'mike': 3,\n",
       " 'Bill': 3,\n",
       " 'John': 3,\n",
       " 'Jojo': 3,\n",
       " 'Kindle': 3,\n",
       " 'Bubba': 3,\n",
       " 'kcladyz': 3,\n",
       " 'Frank': 3,\n",
       " 'Grandma': 3,\n",
       " 'Mimi': 3,\n",
       " 'Richard': 3,\n",
       " 'Manny': 3,\n",
       " 'Susie': 3,\n",
       " 'Charlie': 3,\n",
       " 'Michael': 3,\n",
       " 'David': 3}"
      ]
     },
     "execution_count": 36,
     "metadata": {},
     "output_type": "execute_result"
    }
   ],
   "source": [
    "#q22:\n",
    "def bucketize(allr, col):\n",
    "    dic = {}\n",
    "    for r in allr:\n",
    "        item = getattr(r,col)\n",
    "        if item not in dic:\n",
    "            dic[item] = []\n",
    "        dic[item].append(r)\n",
    "    return dic\n",
    "bucket = bucketize(reviews,\"username\")\n",
    "dic1 = {}\n",
    "for key in bucket:\n",
    "    dic1[key] = len(bucket[key])\n",
    "dic2 = {}\n",
    "names = sorted(dic1, key=dic1.get,reverse= True)[:30]\n",
    "for name in names:\n",
    "    dic2[name] = dic1[name]\n",
    "dic2"
   ]
  },
  {
   "cell_type": "code",
   "execution_count": 37,
   "metadata": {},
   "outputs": [
    {
     "data": {
      "text/plain": [
       "{'Ellen': 10,\n",
       " 'Earthdog': 27,\n",
       " 'fenton': 6,\n",
       " 'Dick': 5,\n",
       " 'Junior': 7,\n",
       " 'AshT': 5,\n",
       " 'Stuartc': 8,\n",
       " 'safissad': 8,\n",
       " 'iMax': 5,\n",
       " 'trouble': 5,\n",
       " 'Roberto002007': 7,\n",
       " 'EricO': 7,\n",
       " 'stephfasc22': 5,\n",
       " 'LadyEsco702': 8,\n",
       " 'Karch': 5,\n",
       " 'TerrieT': 5,\n",
       " 'mysixpack': 6,\n",
       " 'Mark': 5,\n",
       " 'Rodge': 6,\n",
       " 'Deejay': 8,\n",
       " 'FrankW': 5,\n",
       " 'Beninkc': 20,\n",
       " 'CarlosEA': 10,\n",
       " '1Briansapp': 5,\n",
       " 'Quasimodo': 5,\n",
       " 'Kime': 5}"
      ]
     },
     "execution_count": 37,
     "metadata": {},
     "output_type": "execute_result"
    }
   ],
   "source": [
    "#q23\n",
    "bucket_2 = bucketize(reviews,\"username\")\n",
    "dic3 = {}\n",
    "for key in bucket_2:\n",
    "    for review in bucket_2[key]:\n",
    "        if review.num_helpful >= 5:\n",
    "            if key not in dic3:\n",
    "                dic3[key]= 0\n",
    "            dic3[key] += review.num_helpful\n",
    "            \n",
    "dic3"
   ]
  },
  {
   "cell_type": "code",
   "execution_count": 38,
   "metadata": {},
   "outputs": [
    {
     "data": {
      "text/plain": [
       "{'All-New Fire HD 8 Tablet, 8 HD Display, Wi-Fi, 16 GB - Includes Special Offers, Magenta': 4.6,\n",
       " 'Kindle Voyage E-reader, 6 High-Resolution Display (300 ppi) with Adaptive Built-in Light, PagePress Sensors, Wi-Fi - Includes Special Offers': 4.666666666666667,\n",
       " 'Amazon Tap Smart Assistant Alexa enabled (black) Brand New': 4.6909090909090905,\n",
       " 'Fire Tablet, 7 Display, Wi-Fi, 8 GB - Includes Special Offers, Magenta': 4.490408673894913,\n",
       " 'All-New Kindle E-reader - Black, 6\" Glare-Free Touchscreen Display, Wi-Fi - Includes Special Offers': 4.590163934426229,\n",
       " 'Fire HD 8 Tablet with Alexa, 8 HD Display, 32 GB, Tangerine - with Special Offers': 3.8333333333333335,\n",
       " 'Amazon 9W PowerFast Official OEM USB Charger and Power Adapter for Fire Tablets and Kindle eReaders': 4.7272727272727275,\n",
       " 'Fire Kids Edition Tablet, 7 Display, Wi-Fi, 16 GB, Pink Kid-Proof Case': 4.603448275862069,\n",
       " 'All-New Fire HD 8 Tablet, 8 HD Display, Wi-Fi, 32 GB - Includes Special Offers, Magenta': 4.574468085106383,\n",
       " 'All-New Fire HD 8 Tablet, 8 HD Display, Wi-Fi, 32 GB - Includes Special Offers, Black': 4.583333333333333,\n",
       " 'Kindle Oasis E-reader with Leather Charging Cover - Merlot, 6 High-Resolution Display (300 ppi), Wi-Fi - Includes Special Offers': 4.866666666666666,\n",
       " 'Amazon Echo (2nd Generation) Smart Assistant Oak Finish Priority Shipping': 5.0,\n",
       " 'All-new Echo (2nd Generation) with improved sound, powered by Dolby, and a new design Walnut Finish': 5.0}"
      ]
     },
     "execution_count": 38,
     "metadata": {},
     "output_type": "execute_result"
    }
   ],
   "source": [
    "#q24:\n",
    "f = open(os.path.join(\"data\", \"products.json\"), encoding=\"utf-8\")\n",
    "json_str = f.read()\n",
    "f.close()\n",
    "\n",
    "data = json.loads(json_str)\n",
    "\n",
    "rating_bucket = bucketize(reviews, \"asin\")\n",
    "dic = {}\n",
    "dic1 = {}\n",
    "for prod in rating_bucket:\n",
    "    rating = []\n",
    "    for review in rating_bucket[prod]:\n",
    "        rating.append(getattr(review,\"rating\" ))\n",
    "    dic[prod] = sum(rating)/len(rating)\n",
    "for key in dic:\n",
    "    dic1[data[key]] = dic[key]\n",
    "dic1"
   ]
  },
  {
   "cell_type": "code",
   "execution_count": 39,
   "metadata": {},
   "outputs": [
    {
     "data": {
      "image/png": "[encoded data removed]",
      "text/plain": [
       "<Figure size 432x288 with 1 Axes>"
      ]
     },
     "metadata": {
      "needs_background": "light"
     },
     "output_type": "display_data"
    }
   ],
   "source": [
    "#q25:\n",
    "def scatter(x, y, xlabel=\"Number of reviews\", ylabel=\"Average Rating\"):\n",
    "    df = pd.DataFrame({\"x\":x, \"y\":y})\n",
    "    ax = df.plot.scatter(x=\"x\", y=\"y\", color=\"black\", fontsize=16, xlim=0, ylim=0)\n",
    "    ax.set_xlabel(xlabel, fontsize=16)\n",
    "    ax.set_ylabel(ylabel, fontsize=16)\n",
    "    ax.get_xaxis().get_major_formatter().set_scientific(False)\n",
    "    ax.get_yaxis().get_major_formatter().set_scientific(False)\n",
    "    \n",
    "\n",
    "prod_count = {}\n",
    "for key in rating_bucket:\n",
    "    prod_count[key] = len(rating_bucket[key])\n",
    "\n",
    "scatter(prod_count, dic)"
   ]
  },
  {
   "cell_type": "code",
   "execution_count": 40,
   "metadata": {},
   "outputs": [
    {
     "data": {
      "image/png": "[encoded data removed]",
      "text/plain": [
       "<Figure size 432x288 with 1 Axes>"
      ]
     },
     "metadata": {
      "needs_background": "light"
     },
     "output_type": "display_data"
    }
   ],
   "source": [
    "#q26:\n",
    "prod2 = dict(sorted(prod_count.items(), key=lambda x: x[1])[:-2])\n",
    "\n",
    "scatter(prod2, dic)"
   ]
  },
  {
   "cell_type": "code",
   "execution_count": 41,
   "metadata": {},
   "outputs": [
    {
     "data": {
      "image/png": "[encoded data removed]",
      "text/plain": [
       "<Figure size 432x288 with 1 Axes>"
      ]
     },
     "metadata": {
      "needs_background": "light"
     },
     "output_type": "display_data"
    }
   ],
   "source": [
    "#q27:\n",
    "def scatter(x, y, xlabel=\"Rating\", ylabel=\"Average Text Length\"):\n",
    "    df = pd.DataFrame({\"x\":x, \"y\":y})\n",
    "    ax = df.plot.scatter(x=\"x\", y=\"y\", color=\"black\", fontsize=16, xlim=0, ylim=0)\n",
    "    ax.set_xlabel(xlabel, fontsize=16)\n",
    "    ax.set_ylabel(ylabel, fontsize=16)\n",
    "    ax.get_xaxis().get_major_formatter().set_scientific(False)\n",
    "    ax.get_yaxis().get_major_formatter().set_scientific(False)\n",
    "    \n",
    "bucket_2 = bucketize(reviews,\"rating\")\n",
    "avg_dict = {}\n",
    "for key in bucket_2:\n",
    "    length = []\n",
    "    for review in bucket_2[key]:\n",
    "        length.append(len(getattr(review,\"text\")))\n",
    "    avg_dict[key] = sum(length)/len(length)\n",
    "    \n",
    "scatter(list(avg_dict.keys()), list(avg_dict.values()), xlabel=\"Rating\", ylabel=\"Average Text Length\")"
   ]
  },
  {
   "cell_type": "code",
   "execution_count": 42,
   "metadata": {},
   "outputs": [
    {
     "data": {
      "image/png": "[encoded data removed]",
      "text/plain": [
       "<Figure size 432x288 with 1 Axes>"
      ]
     },
     "metadata": {
      "needs_background": "light"
     },
     "output_type": "display_data"
    }
   ],
   "source": [
    "#q28:\n",
    "def scatter(x, y, xlabel=\"Rating\", ylabel=\"Percentage of helpful reviews\"):\n",
    "    df = pd.DataFrame({\"x\":x, \"y\":y})\n",
    "    ax = df.plot.scatter(x=\"x\", y=\"y\", color=\"black\", fontsize=16, xlim=0, ylim=0)\n",
    "    ax.set_xlabel(xlabel, fontsize=16)\n",
    "    ax.set_ylabel(ylabel, fontsize=16)\n",
    "    ax.get_xaxis().get_major_formatter().set_scientific(False)\n",
    "    ax.get_yaxis().get_major_formatter().set_scientific(False)\n",
    "    \n",
    "bucket_2 = bucketize(reviews,\"rating\")\n",
    "percentage_dict = {}\n",
    "for key in bucket_2:\n",
    "    percentage = []\n",
    "    total_num_helpful = 0\n",
    "    for review in bucket_2[key]:\n",
    "        if getattr(review,\"num_helpful\") > 0:\n",
    "            total_num_helpful += 1\n",
    "    percentage_dict[key] = total_num_helpful/len( bucket_2[key])\n",
    "\n",
    "scatter(list(percentage_dict.keys()), list(percentage_dict.values()), xlabel=\"Rating\", ylabel=\"Percentage of helpful reviews\")"
   ]
  },
  {
   "cell_type": "code",
   "execution_count": 43,
   "metadata": {},
   "outputs": [
    {
     "data": {
      "text/plain": [
       "4.607549120992761"
      ]
     },
     "execution_count": 43,
     "metadata": {},
     "output_type": "execute_result"
    }
   ],
   "source": [
    "#q29:\n",
    "bucket2 = bucketize(reviews, \"do_recommend\")\n",
    "bucket_2 = bucket2[True]\n",
    "list_rating_recommended = []\n",
    "for i in range(len(bucket_2)):\n",
    "    list_rating_recommended.append(bucket_2[i][5])\n",
    "\n",
    "list_rating_recommended\n",
    "sum(list_rating_recommended)/len(list_rating_recommended)"
   ]
  },
  {
   "cell_type": "code",
   "execution_count": 44,
   "metadata": {},
   "outputs": [
    {
     "data": {
      "image/png": "[encoded data removed]",
      "text/plain": [
       "<Figure size 432x288 with 1 Axes>"
      ]
     },
     "metadata": {
      "needs_background": "light"
     },
     "output_type": "display_data"
    }
   ],
   "source": [
    "#q30:\n",
    "def scatter(x, y, xlabel=\"Rating\", ylabel=\"Probability of recommendation\"):\n",
    "    df = pd.DataFrame({\"x\":x, \"y\":y})\n",
    "    ax = df.plot.scatter(x=\"x\", y=\"y\", color=\"black\", fontsize=16, xlim=0, ylim=0)\n",
    "    ax.set_xlabel(xlabel, fontsize=16)\n",
    "    ax.set_ylabel(ylabel, fontsize=16)\n",
    "    ax.get_xaxis().get_major_formatter().set_scientific(False)\n",
    "    ax.get_yaxis().get_major_formatter().set_scientific(False)\n",
    "\n",
    "bucket_2 = bucketize(reviews,\"rating\")\n",
    "probability_dict = {}\n",
    "for key in bucket_2:\n",
    "    total_do_recommend = 0\n",
    "    for review in bucket_2[key]:\n",
    "        if getattr(review,\"do_recommend\") == 1:\n",
    "            total_do_recommend += 1\n",
    "    probability_dict[key] = total_do_recommend/len(bucket_2[key])\n",
    "\n",
    "scatter(list(probability_dict.keys()), list(probability_dict.values()), xlabel=\"Rating\", ylabel=\"Probability of recommendation\")"
   ]
  },
  {
   "cell_type": "code",
   "execution_count": 45,
   "metadata": {},
   "outputs": [],
   "source": [
    "def word_frequency(category, rating, word_limit):\n",
    "    rating_reviews = bucketize(reviews, \"rating\")[rating]\n",
    "    counts = {}\n",
    "    for review in rating_reviews:\n",
    "        sentence = getattr(review, category)\n",
    "        for word in sentence.lower().split(\" \"):\n",
    "            if not word in counts:\n",
    "                counts[word] = 1\n",
    "            else:\n",
    "                counts[word] += 1\n",
    "    counts1 = {}\n",
    "    for word in counts:\n",
    "        if  counts[word] > word_limit:\n",
    "            counts1[word] = counts[word]\n",
    "        \n",
    "    return counts1"
   ]
  },
  {
   "cell_type": "code",
   "execution_count": 46,
   "metadata": {},
   "outputs": [
    {
     "data": {
      "text/plain": [
       "{'this': 1016,\n",
       " 'to': 1442,\n",
       " 'my': 1146,\n",
       " 'for': 1800,\n",
       " 'the': 1740,\n",
       " 'and': 1818,\n",
       " 'i': 1317,\n",
       " 'it': 1286,\n",
       " 'a': 1134}"
      ]
     },
     "execution_count": 46,
     "metadata": {},
     "output_type": "execute_result"
    }
   ],
   "source": [
    "#q31:\n",
    "word_frequency(\"text\", 5, 1000)"
   ]
  },
  {
   "cell_type": "code",
   "execution_count": 47,
   "metadata": {},
   "outputs": [
    {
     "data": {
      "text/plain": [
       "{'kindle': 142,\n",
       " 'love': 158,\n",
       " 'it': 137,\n",
       " 'a': 143,\n",
       " 'great': 1093,\n",
       " 'the': 231,\n",
       " 'tablet': 681,\n",
       " 'good': 212,\n",
       " 'for': 617,\n",
       " 'awesome': 108,\n",
       " 'kids': 132,\n",
       " 'gift': 105,\n",
       " 'fire': 104,\n",
       " 'price': 149,\n",
       " 'product': 179,\n",
       " 'my': 138,\n",
       " 'to': 106}"
      ]
     },
     "execution_count": 47,
     "metadata": {},
     "output_type": "execute_result"
    }
   ],
   "source": [
    "#q32:\n",
    "word_frequency(\"title\", 5, 100)"
   ]
  },
  {
   "cell_type": "code",
   "execution_count": 48,
   "metadata": {},
   "outputs": [
    {
     "data": {
      "text/plain": [
       "{'poor': 2,\n",
       " 'tablet': 4,\n",
       " 'a': 5,\n",
       " 'great': 2,\n",
       " 'very': 3,\n",
       " 'disappointed': 2,\n",
       " 'use': 2,\n",
       " 'amazon': 5,\n",
       " 'not': 8,\n",
       " 'good': 2,\n",
       " '5': 2,\n",
       " 'for': 2,\n",
       " 'with': 2,\n",
       " 'work': 2,\n",
       " 'really': 2,\n",
       " 'to': 2,\n",
       " 'and': 2,\n",
       " 'kindle': 2,\n",
       " 'does': 2}"
      ]
     },
     "execution_count": 48,
     "metadata": {},
     "output_type": "execute_result"
    }
   ],
   "source": [
    "#q33:\n",
    "word_frequency(\"title\", 1, 1)"
   ]
  },
  {
   "cell_type": "code",
   "execution_count": 49,
   "metadata": {},
   "outputs": [
    {
     "data": {
      "text/plain": [
       "{'great': 37,\n",
       " 'for': 60,\n",
       " 'price': 18,\n",
       " 'ok': 18,\n",
       " 'tablet': 51,\n",
       " 'the': 18,\n",
       " 'good': 42,\n",
       " 'not': 13,\n",
       " 'a': 17}"
      ]
     },
     "execution_count": 49,
     "metadata": {},
     "output_type": "execute_result"
    }
   ],
   "source": [
    "#q34:\n",
    "word_frequency(\"title\", 3, 10)"
   ]
  },
  {
   "cell_type": "code",
   "execution_count": 50,
   "metadata": {},
   "outputs": [],
   "source": [
    "def find_path(directory):\n",
    "    list1 = []\n",
    "    for item in os.listdir(directory):\n",
    "        if not os.path.isfile(os.path.join(directory, item)):\n",
    "            list1 += find_path(os.path.join(directory, item))\n",
    "        else:\n",
    "            if item[0] != \".\":\n",
    "                list1.append(os.path.join(directory, item))\n",
    "    list1.sort(reverse = True)\n",
    "    return list1"
   ]
  },
  {
   "cell_type": "code",
   "execution_count": 51,
   "metadata": {},
   "outputs": [
    {
     "data": {
      "text/plain": [
       "['broken_file/rating5/helpful/helpful.json']"
      ]
     },
     "execution_count": 51,
     "metadata": {},
     "output_type": "execute_result"
    }
   ],
   "source": [
    "#q35:\n",
    "find_path(os.path.join(\"broken_file\",\"rating5\",\"helpful\"))"
   ]
  },
  {
   "cell_type": "code",
   "execution_count": 52,
   "metadata": {},
   "outputs": [
    {
     "data": {
      "text/plain": [
       "['broken_file/rating4/very_helpful/very_helpful.json',\n",
       " 'broken_file/rating4/others/short/short.json',\n",
       " 'broken_file/rating4/others/others/others.json',\n",
       " 'broken_file/rating4/not_helpful.json']"
      ]
     },
     "execution_count": 52,
     "metadata": {},
     "output_type": "execute_result"
    }
   ],
   "source": [
    "#q36:\n",
    "find_path(os.path.join(\"broken_file\",\"rating4\"))"
   ]
  },
  {
   "cell_type": "code",
   "execution_count": 53,
   "metadata": {},
   "outputs": [
    {
     "data": {
      "text/plain": [
       "['broken_file/rating5/others.json',\n",
       " 'broken_file/rating5/helpful/helpful.json',\n",
       " 'broken_file/rating4/very_helpful/very_helpful.json',\n",
       " 'broken_file/rating4/others/short/short.json',\n",
       " 'broken_file/rating4/others/others/others.json',\n",
       " 'broken_file/rating4/not_helpful.json',\n",
       " 'broken_file/rating3/others/others.json',\n",
       " 'broken_file/rating3/long/long.json',\n",
       " 'broken_file/others.json']"
      ]
     },
     "execution_count": 53,
     "metadata": {},
     "output_type": "execute_result"
    }
   ],
   "source": [
    "#q37:\n",
    "paths = find_path(os.path.join(\"broken_file\"))\n",
    "paths"
   ]
  },
  {
   "cell_type": "code",
   "execution_count": 54,
   "metadata": {},
   "outputs": [],
   "source": [
    "broken_data = {}\n",
    "for file in paths:\n",
    "    data = read_json(\".\", file)\n",
    "    for key in data:\n",
    "        broken_data[key] = data[key]"
   ]
  },
  {
   "cell_type": "code",
   "execution_count": 55,
   "metadata": {},
   "outputs": [
    {
     "data": {
      "text/plain": [
       "1"
      ]
     },
     "execution_count": 55,
     "metadata": {},
     "output_type": "execute_result"
    }
   ],
   "source": [
    "#q38:\n",
    "unique = []\n",
    "for data in broken_data:\n",
    "    if broken_data[data][1] not in unique:\n",
    "        unique.append(broken_data[data][1])\n",
    "        \n",
    "len(unique)"
   ]
  },
  {
   "cell_type": "code",
   "execution_count": 56,
   "metadata": {},
   "outputs": [],
   "source": [
    "f = open(os.path.join(\"data\", \"broken_data.json\"), \"w\", encoding=\"utf-8\")    \n",
    "json.dump(broken_data, f)\n",
    "f.close()\n",
    "\n",
    "new_reviews = get_reviews('review4.csv', 'broken_data.json')\n",
    "os.remove(os.path.join(\"data\", \"broken_data.json\"))"
   ]
  },
  {
   "cell_type": "code",
   "execution_count": 57,
   "metadata": {},
   "outputs": [
    {
     "data": {
      "text/plain": [
       "4992"
      ]
     },
     "execution_count": 57,
     "metadata": {},
     "output_type": "execute_result"
    }
   ],
   "source": [
    "#q39:\n",
    "complete_reviews = list(set(reviews + new_reviews))\n",
    "len(complete_reviews)"
   ]
  },
  {
   "cell_type": "code",
   "execution_count": 58,
   "metadata": {},
   "outputs": [
    {
     "data": {
      "text/plain": [
       "4.490408673894913"
      ]
     },
     "execution_count": 58,
     "metadata": {},
     "output_type": "execute_result"
    }
   ],
   "source": [
    "y = dic1[\"Fire Tablet, 7 Display, Wi-Fi, 8 GB - Includes Special Offers, Magenta\"]\n",
    "y"
   ]
  },
  {
   "cell_type": "code",
   "execution_count": 59,
   "metadata": {},
   "outputs": [
    {
     "data": {
      "text/plain": [
       "0.31190229022053717"
      ]
     },
     "execution_count": 59,
     "metadata": {},
     "output_type": "execute_result"
    }
   ],
   "source": [
    "#q40:\n",
    "f = open(os.path.join(\"data\", \"products.json\"), encoding=\"utf-8\")\n",
    "json_str = f.read()\n",
    "f.close()\n",
    "\n",
    "data = json.loads(json_str)\n",
    "data\n",
    "rating_bucket = bucketize(complete_reviews, \"asin\")\n",
    "\n",
    "dic = {}\n",
    "complete_dic = {}\n",
    "for prod in rating_bucket:\n",
    "    rating = []\n",
    "    for complete_review in rating_bucket[prod]:\n",
    "        rating.append(getattr(complete_review,\"rating\" ))\n",
    "    dic[prod] = sum(rating)/len(rating)\n",
    "for key in dic:\n",
    "    complete_dic[data[key]] = dic[key]\n",
    "    \n",
    "x = complete_dic['Fire Tablet, 7 Display, Wi-Fi, 8 GB - Includes Special Offers, Magenta']\n",
    "\n",
    "((x-y)/y)*100"
   ]
  },
  {
   "cell_type": "code",
   "execution_count": null,
   "metadata": {},
   "outputs": [],
   "source": []
  }
 ],
 "metadata": {
  "kernelspec": {
   "display_name": "Python 3",
   "language": "python",
   "name": "python3"
  },
  "language_info": {
   "codemirror_mode": {
    "name": "ipython",
    "version": 3
   },
   "file_extension": ".py",
   "mimetype": "text/x-python",
   "name": "python",
   "nbconvert_exporter": "python",
   "pygments_lexer": "ipython3",
   "version": "3.7.4"
  }
 },
 "nbformat": 4,
 "nbformat_minor": 2
}
