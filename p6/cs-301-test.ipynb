{
 "cells": [
  {
   "cell_type": "code",
   "execution_count": 1,
   "metadata": {},
   "outputs": [],
   "source": [
    "import csv\n",
    "\n",
    "# copied from https://automatetheboringstuff.com/chapter14/\n",
    "def process_csv(filename):\n",
    "    exampleFile = open(filename, encoding=\"utf-8\")\n",
    "    exampleReader = csv.reader(exampleFile)\n",
    "    exampleData = list(exampleReader)\n",
    "    exampleFile.close()\n",
    "    return exampleData\n",
    "\n",
    "# use process_csv to pull out the header and data rows\n",
    "csv_rows = process_csv(\"wine.csv\")\n",
    "csv_header = csv_rows[0]\n",
    "csv_data = csv_rows[1:]"
   ]
  },
  {
   "cell_type": "code",
   "execution_count": 2,
   "metadata": {},
   "outputs": [],
   "source": [
    "def cell(row_idx, col_name):\n",
    "    col_idx = csv_header.index(col_name)\n",
    "    val = csv_data[row_idx][col_idx]\n",
    "    if val == \"\":\n",
    "        return None\n",
    "    if col_name == 'points':\n",
    "        val = float(val)\n",
    "    if col_name == 'price':\n",
    "        val = float(val)\n",
    "    return val"
   ]
  },
  {
   "cell_type": "code",
   "execution_count": 3,
   "metadata": {},
   "outputs": [
    {
     "data": {
      "text/plain": [
       "['New Zealand',\n",
       " 'Morocco',\n",
       " 'Romania',\n",
       " 'Argentina',\n",
       " 'Portugal',\n",
       " 'Croatia',\n",
       " 'Greece',\n",
       " 'France',\n",
       " 'Australia',\n",
       " 'Spain',\n",
       " 'Austria',\n",
       " 'Canada',\n",
       " 'Israel',\n",
       " 'Slovenia',\n",
       " 'Chile',\n",
       " 'South Africa',\n",
       " 'Italy',\n",
       " 'US',\n",
       " 'Moldova',\n",
       " 'Hungary',\n",
       " 'Bulgaria',\n",
       " 'India',\n",
       " 'Germany']"
      ]
     },
     "execution_count": 3,
     "metadata": {},
     "output_type": "execute_result"
    }
   ],
   "source": [
    "#q1\n",
    "r = []\n",
    "for i in range(len(csv_data)):\n",
    "    c = cell(i,\"country\")\n",
    "    if c is not None:\n",
    "        r.append(c)\n",
    "r = list(set(r))\n",
    "r"
   ]
  },
  {
   "cell_type": "code",
   "execution_count": 4,
   "metadata": {},
   "outputs": [
    {
     "data": {
      "text/plain": [
       "89.65489673550967"
      ]
     },
     "execution_count": 4,
     "metadata": {},
     "output_type": "execute_result"
    }
   ],
   "source": [
    "#q2\n",
    "sum_points = 0\n",
    "n = 0\n",
    "for i in range(len(csv_data)):\n",
    "    c = cell(i,\"points\")\n",
    "    #print(type(c))\n",
    "    if c is not None:\n",
    "        sum_points += c\n",
    "        n += 1\n",
    "sum_points / n"
   ]
  },
  {
   "cell_type": "code",
   "execution_count": 5,
   "metadata": {},
   "outputs": [
    {
     "data": {
      "text/plain": [
       "['Noble Hill',\n",
       " 'Robertson Winery',\n",
       " 'Long Neck',\n",
       " 'KWV',\n",
       " 'Bouchard Finlayson',\n",
       " 'Neil Ellis',\n",
       " 'Graham Beck',\n",
       " 'Vergelegen',\n",
       " 'Waterkloof',\n",
       " 'Fat Barrel',\n",
       " 'Essay']"
      ]
     },
     "execution_count": 5,
     "metadata": {},
     "output_type": "execute_result"
    }
   ],
   "source": [
    "#q3\n",
    "r = []\n",
    "for i in range(len(csv_data)):\n",
    "    c = cell(i, \"country\")\n",
    "    if c == \"South Africa\":\n",
    "        r.append(cell(i,\"winery\"))\n",
    "r = list(set(r))\n",
    "r"
   ]
  },
  {
   "cell_type": "code",
   "execution_count": 6,
   "metadata": {},
   "outputs": [
    {
     "data": {
      "text/plain": [
       "['Chardonnay', 'White Blend', 'Rhône-style White Blend', 'Syrah']"
      ]
     },
     "execution_count": 6,
     "metadata": {},
     "output_type": "execute_result"
    }
   ],
   "source": [
    "#q4\n",
    "r = []\n",
    "for i in range(len(csv_data)):\n",
    "    c = cell(i, \"description\")\n",
    "    c = c.lower()\n",
    "    if c.find(\"caramelized\") != -1:\n",
    "        r.append(cell(i, \"variety\"))\n",
    "r = list(set(r))\n",
    "r"
   ]
  },
  {
   "cell_type": "code",
   "execution_count": 7,
   "metadata": {},
   "outputs": [
    {
     "data": {
      "text/plain": [
       "['Pinot Grigio', 'Chardonnay', 'Sparkling Blend']"
      ]
     },
     "execution_count": 7,
     "metadata": {},
     "output_type": "execute_result"
    }
   ],
   "source": [
    "#q5\n",
    "r = []\n",
    "for i in range(len(csv_data)):\n",
    "    c = cell(i, \"description\")\n",
    "    c = c.lower()\n",
    "    if c.find(\"lemon-lime soda\") != -1:\n",
    "        r.append(cell(i, \"variety\"))\n",
    "r = list(set(r))\n",
    "r"
   ]
  },
  {
   "cell_type": "code",
   "execution_count": 8,
   "metadata": {},
   "outputs": [
    {
     "data": {
      "text/plain": [
       "['Cabernet Sauvignon', 'Nebbiolo', 'Rosé']"
      ]
     },
     "execution_count": 8,
     "metadata": {},
     "output_type": "execute_result"
    }
   ],
   "source": [
    "#q6\n",
    "r = []\n",
    "for i in range(len(csv_data)):\n",
    "    c = cell(i, \"description\")\n",
    "    c = c.lower()\n",
    "    if c.find(\"cherry-berry\") != -1:\n",
    "        r.append(cell(i, \"variety\"))\n",
    "r = list(set(r))\n",
    "r"
   ]
  },
  {
   "cell_type": "code",
   "execution_count": 9,
   "metadata": {},
   "outputs": [],
   "source": [
    "def anagram(str1):\n",
    "    r=[]\n",
    "    str1 = str1.lower()\n",
    "    phrase = sorted(str1.replace(\" \",\"\"))\n",
    "    for i in range(len(csv_data)):\n",
    "        c = cell(i,\"variety\")\n",
    "        if c not in r:\n",
    "            c = c.lower()\n",
    "            c = c.replace(\" \",\"\")\n",
    "            result = sorted(c)\n",
    "            if result == phrase:\n",
    "                r.append(cell(i,\"variety\"))\n",
    "    r= list(set(r))\n",
    "    return r"
   ]
  },
  {
   "cell_type": "code",
   "execution_count": 10,
   "metadata": {},
   "outputs": [
    {
     "data": {
      "text/plain": [
       "['Cabernet Sauvignon']"
      ]
     },
     "execution_count": 10,
     "metadata": {},
     "output_type": "execute_result"
    }
   ],
   "source": [
    "#q7\n",
    "anagram(\"antibus governance\")"
   ]
  },
  {
   "cell_type": "code",
   "execution_count": 11,
   "metadata": {},
   "outputs": [
    {
     "data": {
      "text/plain": [
       "['Tempranillo Blend']"
      ]
     },
     "execution_count": 11,
     "metadata": {},
     "output_type": "execute_result"
    }
   ],
   "source": [
    "#q8\n",
    "anagram(\"Banned Petrol Mill\")"
   ]
  },
  {
   "cell_type": "code",
   "execution_count": 12,
   "metadata": {},
   "outputs": [],
   "source": [
    "def q910(country,attr1,attr2):\n",
    "    highest_x = 0\n",
    "    winery = []\n",
    "    for i in range(len(csv_data)):\n",
    "        c = cell(i,\"country\")\n",
    "        if c == country:\n",
    "            x = cell(i,attr1)\n",
    "            if x == None:\n",
    "                continue\n",
    "            if x >= highest_x:\n",
    "                highest_x = x\n",
    "        \n",
    "    for i in range(len(csv_data)):\n",
    "        c = cell(i,\"country\")\n",
    "        if c == country:\n",
    "            x = cell(i,attr1)\n",
    "            if x == None:\n",
    "                continue\n",
    "            if x == highest_x:\n",
    "                highest_x = x \n",
    "                winery.append(cell(i,attr2))\n",
    "    \n",
    "    return winery"
   ]
  },
  {
   "cell_type": "code",
   "execution_count": 13,
   "metadata": {},
   "outputs": [
    {
     "data": {
      "text/plain": [
       "['Hall']"
      ]
     },
     "execution_count": 13,
     "metadata": {},
     "output_type": "execute_result"
    }
   ],
   "source": [
    "#q9 \n",
    "q910(\"US\",\"price\",\"winery\")"
   ]
  },
  {
   "cell_type": "code",
   "execution_count": 14,
   "metadata": {},
   "outputs": [
    {
     "data": {
      "text/plain": [
       "['Provence red blend', 'Tannat', 'Malbec']"
      ]
     },
     "execution_count": 14,
     "metadata": {},
     "output_type": "execute_result"
    }
   ],
   "source": [
    "#q10\n",
    "q910(\"France\",\"points\",\"variety\")"
   ]
  },
  {
   "cell_type": "code",
   "execution_count": 15,
   "metadata": {},
   "outputs": [],
   "source": [
    "def average_ppd(winery):\n",
    "    ppd = 0\n",
    "    average_ppd = 0\n",
    "    r = []\n",
    "    for i in range(len(csv_data)):\n",
    "        c = cell(i,\"winery\")\n",
    "        if c == winery:\n",
    "            x = cell(i,\"price\")\n",
    "            if x == None:\n",
    "                continue\n",
    "            dollar = cell(i,\"price\")\n",
    "            \n",
    "            y = cell(i,\"points\")\n",
    "            if y == None:\n",
    "                continue\n",
    "            points = cell(i,\"points\")\n",
    "            ppd = points/dollar\n",
    "            r.append(ppd)\n",
    "            \n",
    "    return sum(r) / len(r)"
   ]
  },
  {
   "cell_type": "code",
   "execution_count": 16,
   "metadata": {},
   "outputs": [
    {
     "data": {
      "text/plain": [
       "1.288074888074888"
      ]
     },
     "execution_count": 16,
     "metadata": {},
     "output_type": "execute_result"
    }
   ],
   "source": [
    "#q11\n",
    "average_ppd(\"Ponzi\")"
   ]
  },
  {
   "cell_type": "code",
   "execution_count": 17,
   "metadata": {},
   "outputs": [
    {
     "data": {
      "text/plain": [
       "1.3628968253968254"
      ]
     },
     "execution_count": 17,
     "metadata": {},
     "output_type": "execute_result"
    }
   ],
   "source": [
    "#q12\n",
    "average_ppd(\"Blue Farm\")"
   ]
  },
  {
   "cell_type": "code",
   "execution_count": 18,
   "metadata": {},
   "outputs": [
    {
     "data": {
      "text/plain": [
       "['Noble Hill',\n",
       " 'Robertson Winery',\n",
       " 'Long Neck',\n",
       " 'KWV',\n",
       " 'Bouchard Finlayson',\n",
       " 'Neil Ellis',\n",
       " 'Graham Beck',\n",
       " 'Vergelegen',\n",
       " 'Waterkloof',\n",
       " 'Fat Barrel',\n",
       " 'Essay']"
      ]
     },
     "execution_count": 18,
     "metadata": {},
     "output_type": "execute_result"
    }
   ],
   "source": [
    "#q13\n",
    "r = []\n",
    "for i in range(len(csv_data)):\n",
    "    c = cell(i, \"country\")\n",
    "    if c == \"South Africa\":\n",
    "        r.append(cell(i,\"winery\"))\n",
    "r = list(set(r))\n",
    "r"
   ]
  },
  {
   "cell_type": "code",
   "execution_count": 19,
   "metadata": {},
   "outputs": [],
   "source": [
    "#q14"
   ]
  },
  {
   "cell_type": "code",
   "execution_count": 20,
   "metadata": {},
   "outputs": [],
   "source": [
    "#q15"
   ]
  },
  {
   "cell_type": "code",
   "execution_count": 21,
   "metadata": {},
   "outputs": [],
   "source": [
    "def function(var):\n",
    "    r = []\n",
    "    for i in range(len(csv_data)):\n",
    "        c = cell(i,\"winery\")\n",
    "        if c == var:\n",
    "            r.append(cell(i,\"variety\"))\n",
    "    r = list(set(r))\n",
    "    return r"
   ]
  },
  {
   "cell_type": "code",
   "execution_count": 22,
   "metadata": {},
   "outputs": [
    {
     "data": {
      "text/plain": [
       "['Touriga Nacional', 'Portuguese Sparkling', 'Portuguese Red']"
      ]
     },
     "execution_count": 22,
     "metadata": {},
     "output_type": "execute_result"
    }
   ],
   "source": [
    "#q16\n",
    "function(\"Global Wines\")"
   ]
  },
  {
   "cell_type": "code",
   "execution_count": 23,
   "metadata": {},
   "outputs": [
    {
     "data": {
      "text/plain": [
       "['Portuguese Rosé', 'Portuguese Red', 'Portuguese White']"
      ]
     },
     "execution_count": 23,
     "metadata": {},
     "output_type": "execute_result"
    }
   ],
   "source": [
    "#q17\n",
    "function(\"Quinta Nova de Nossa Senhora do Carmo\")"
   ]
  },
  {
   "cell_type": "code",
   "execution_count": 24,
   "metadata": {},
   "outputs": [],
   "source": [
    "#q18"
   ]
  },
  {
   "cell_type": "code",
   "execution_count": 25,
   "metadata": {},
   "outputs": [],
   "source": [
    "def cheap(country,attr):\n",
    "    lowest_x = 100000000\n",
    "    winery = []\n",
    "    for i in range(len(csv_data)):\n",
    "        c = cell(i,\"country\")\n",
    "        if c == country:\n",
    "            x = cell(i,attr)\n",
    "            if x == None:\n",
    "                continue\n",
    "            if x <= lowest_x: \n",
    "                    lowest_x = x\n",
    "    \n",
    "    for i in range(len(csv_data)):\n",
    "        c = cell(i,\"country\")\n",
    "        if c == country:\n",
    "            x = cell(i,attr)\n",
    "            if x == None:\n",
    "                continue\n",
    "            if x == lowest_x:\n",
    "                    lowest_x = x \n",
    "                    price = cell(i,\"price\")\n",
    "    \n",
    "    return price"
   ]
  },
  {
   "cell_type": "code",
   "execution_count": 26,
   "metadata": {},
   "outputs": [
    {
     "data": {
      "text/plain": [
       "10.0"
      ]
     },
     "execution_count": 26,
     "metadata": {},
     "output_type": "execute_result"
    }
   ],
   "source": [
    "#q19\n",
    "cheap(\"US\",\"price\")"
   ]
  },
  {
   "cell_type": "code",
   "execution_count": 27,
   "metadata": {},
   "outputs": [],
   "source": [
    "def costliest(country,attr):\n",
    "    highest_x = 0\n",
    "    winery = []\n",
    "    for i in range(len(csv_data)):\n",
    "        c = cell(i,\"country\")\n",
    "        if c == country:\n",
    "            x = cell(i,attr)\n",
    "            if x == None:\n",
    "                continue\n",
    "            if x >= highest_x: \n",
    "                    highest_x = x\n",
    "    \n",
    "    for i in range(len(csv_data)):\n",
    "        c = cell(i,\"country\")\n",
    "        if c == country:\n",
    "            x = cell(i,attr)\n",
    "            if x == None:\n",
    "                continue\n",
    "            if x == highest_x:\n",
    "                    highest_x = x \n",
    "                    price = cell(i,\"price\")\n",
    "    \n",
    "    return price"
   ]
  },
  {
   "cell_type": "code",
   "execution_count": 28,
   "metadata": {},
   "outputs": [
    {
     "data": {
      "text/plain": [
       "335.0"
      ]
     },
     "execution_count": 28,
     "metadata": {},
     "output_type": "execute_result"
    }
   ],
   "source": [
    "#q20\n",
    "cheap(\"US\",\"price\")+ costliest(\"US\",\"price\")"
   ]
  }
 ],
 "metadata": {
  "kernelspec": {
   "display_name": "Python 3",
   "language": "python",
   "name": "python3"
  },
  "language_info": {
   "codemirror_mode": {
    "name": "ipython",
    "version": 3
   },
   "file_extension": ".py",
   "mimetype": "text/x-python",
   "name": "python",
   "nbconvert_exporter": "python",
   "pygments_lexer": "ipython3",
   "version": "3.7.4"
  }
 },
 "nbformat": 4,
 "nbformat_minor": 2
}
