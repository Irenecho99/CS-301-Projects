{
 "cells": [
  {
   "cell_type": "code",
   "execution_count": 1,
   "metadata": {},
   "outputs": [],
   "source": [
    "import csv\n",
    "\n",
    "# copied from https://automatetheboringstuff.com/chapter14/\n",
    "def process_csv(filename):\n",
    "    exampleFile = open(filename, encoding=\"utf-8\")\n",
    "    exampleReader = csv.reader(exampleFile)\n",
    "    exampleData = list(exampleReader)\n",
    "    exampleFile.close()\n",
    "    return exampleData\n",
    "\n",
    "# use process_csv to pull out the header and data rows\n",
    "csv_rows = process_csv(\"wine.csv\")\n",
    "csv_header = csv_rows[0]\n",
    "csv_data = csv_rows[1:]"
   ]
  },
  {
   "cell_type": "code",
   "execution_count": 2,
   "metadata": {},
   "outputs": [],
   "source": [
    "def cell(row_idx, col_name):\n",
    "    col_idx = csv_header.index(col_name)\n",
    "    val = csv_data[row_idx][col_idx]\n",
    "    if val == \"\":\n",
    "        return None\n",
    "    if col_name == 'points':\n",
    "        val = float(val)\n",
    "    if col_name == 'price':\n",
    "        val = float(val)\n",
    "    return val"
   ]
  },
  {
   "cell_type": "code",
   "execution_count": 3,
   "metadata": {},
   "outputs": [
    {
     "data": {
      "text/plain": [
       "['Austria',\n",
       " 'Croatia',\n",
       " 'Italy',\n",
       " 'Israel',\n",
       " 'France',\n",
       " 'Slovenia',\n",
       " 'Canada',\n",
       " 'Portugal',\n",
       " 'Greece',\n",
       " 'Bulgaria',\n",
       " 'New Zealand',\n",
       " 'Australia',\n",
       " 'Morocco',\n",
       " 'Germany',\n",
       " 'South Africa',\n",
       " 'Moldova',\n",
       " 'Hungary',\n",
       " 'Romania',\n",
       " 'Argentina',\n",
       " 'India',\n",
       " 'US',\n",
       " 'Chile',\n",
       " 'Spain']"
      ]
     },
     "execution_count": 3,
     "metadata": {},
     "output_type": "execute_result"
    }
   ],
   "source": [
    "#which country names are listed in the \n",
    "#country column of the dataset?\n",
    "r = []\n",
    "for i in range(len(csv_data)):\n",
    "    c = cell(i,\"country\")\n",
    "    if c is not None:\n",
    "        r.append(c)\n",
    "r = list(set(r))\n",
    "r"
   ]
  },
  {
   "cell_type": "code",
   "execution_count": 4,
   "metadata": {},
   "outputs": [
    {
     "data": {
      "text/plain": [
       "89.65489673550967"
      ]
     },
     "execution_count": 4,
     "metadata": {},
     "output_type": "execute_result"
    }
   ],
   "source": [
    "#what is the average points \n",
    "#(rating) of wine?\n",
    "sum_points = 0\n",
    "n = 0\n",
    "for i in range(len(csv_data)):\n",
    "    c = cell(i,\"points\")\n",
    "    #print(type(c))\n",
    "    if c is not None:\n",
    "        sum_points += c\n",
    "        n += 1\n",
    "sum_points / n"
   ]
  },
  {
   "cell_type": "code",
   "execution_count": 5,
   "metadata": {},
   "outputs": [
    {
     "data": {
      "text/plain": [
       "['Neil Ellis',\n",
       " 'Waterkloof',\n",
       " 'Graham Beck',\n",
       " 'Long Neck',\n",
       " 'Vergelegen',\n",
       " 'Noble Hill',\n",
       " 'Essay',\n",
       " 'Robertson Winery',\n",
       " 'KWV',\n",
       " 'Bouchard Finlayson',\n",
       " 'Fat Barrel']"
      ]
     },
     "execution_count": 5,
     "metadata": {},
     "output_type": "execute_result"
    }
   ],
   "source": [
    "#List all wineries which \n",
    "#produce wine in South Africa?\n",
    "#(no duplicates)\n",
    "r = []\n",
    "for i in range(len(csv_data)):\n",
    "    c = cell(i, \"country\")\n",
    "    if c == \"South Africa\":\n",
    "        r.append(cell(i,\"winery\"))\n",
    "r = list(set(r))\n",
    "r"
   ]
  },
  {
   "cell_type": "code",
   "execution_count": 6,
   "metadata": {},
   "outputs": [
    {
     "data": {
      "text/plain": [
       "['Syrah', 'Chardonnay', 'White Blend', 'Rhône-style White Blend']"
      ]
     },
     "execution_count": 6,
     "metadata": {},
     "output_type": "execute_result"
    }
   ],
   "source": [
    "#which wine varieties contain \n",
    "#the phrase \"caramelized\" in the \n",
    "#description?\n",
    "r = []\n",
    "for i in range(len(csv_data)):\n",
    "    c = cell(i, \"description\")\n",
    "    c = c.lower()\n",
    "    if c.find(\"caramelized\") != -1:\n",
    "        r.append(cell(i, \"variety\"))\n",
    "r = list(set(r))\n",
    "r"
   ]
  },
  {
   "cell_type": "code",
   "execution_count": 7,
   "metadata": {},
   "outputs": [
    {
     "data": {
      "text/plain": [
       "['Sparkling Blend', 'Pinot Grigio', 'Chardonnay']"
      ]
     },
     "execution_count": 7,
     "metadata": {},
     "output_type": "execute_result"
    }
   ],
   "source": [
    "#q5\n",
    "r = []\n",
    "for i in range(len(csv_data)):\n",
    "    c = cell(i, \"description\")\n",
    "    c = c.lower()\n",
    "    if c.find(\"lemon-lime soda\") != -1:\n",
    "        r.append(cell(i, \"variety\"))\n",
    "r = list(set(r))\n",
    "r"
   ]
  },
  {
   "cell_type": "code",
   "execution_count": 8,
   "metadata": {},
   "outputs": [
    {
     "data": {
      "text/plain": [
       "['Nebbiolo', 'Cabernet Sauvignon', 'Rosé']"
      ]
     },
     "execution_count": 8,
     "metadata": {},
     "output_type": "execute_result"
    }
   ],
   "source": [
    "#q6\n",
    "r = []\n",
    "for i in range(len(csv_data)):\n",
    "    c = cell(i, \"description\")\n",
    "    c = c.lower()\n",
    "    if c.find(\"cherry-berry\") != -1:\n",
    "        r.append(cell(i, \"variety\"))\n",
    "r = list(set(r))\n",
    "r"
   ]
  },
  {
   "cell_type": "code",
   "execution_count": 9,
   "metadata": {},
   "outputs": [],
   "source": [
    "def anagram(str1):\n",
    "    r=[]\n",
    "    str1 = str1.lower()\n",
    "    phrase = sorted(str1.replace(\" \",\"\"))\n",
    "    for i in range(len(csv_data)):\n",
    "        c = cell(i,\"variety\")\n",
    "        if c not in r:\n",
    "            c = c.lower()\n",
    "            c = c.replace(\" \",\"\")\n",
    "            result = sorted(c)\n",
    "            if result == phrase:\n",
    "                r.append(cell(i,\"variety\"))\n",
    "    r= list(set(r))\n",
    "    return r"
   ]
  },
  {
   "cell_type": "code",
   "execution_count": 10,
   "metadata": {},
   "outputs": [
    {
     "data": {
      "text/plain": [
       "['Cabernet Sauvignon']"
      ]
     },
     "execution_count": 10,
     "metadata": {},
     "output_type": "execute_result"
    }
   ],
   "source": [
    "#q7\n",
    "anagram(\"antibus governance\")"
   ]
  },
  {
   "cell_type": "code",
   "execution_count": 11,
   "metadata": {},
   "outputs": [
    {
     "data": {
      "text/plain": [
       "['Tempranillo Blend']"
      ]
     },
     "execution_count": 11,
     "metadata": {},
     "output_type": "execute_result"
    }
   ],
   "source": [
    "#q8\n",
    "anagram(\"Banned Petrol Mill\")"
   ]
  },
  {
   "cell_type": "code",
   "execution_count": 12,
   "metadata": {},
   "outputs": [],
   "source": [
    "#which winery produces the \n",
    "#highest-priced wine in \"US\"?\n",
    "def q910(country,attr1,attr2):\n",
    "    highest_x = 0\n",
    "    winery = []\n",
    "    for i in range(len(csv_data)):\n",
    "        c = cell(i,\"country\")\n",
    "        if c == country:\n",
    "            x = cell(i,attr1)\n",
    "            if x == None:\n",
    "                continue\n",
    "            if x >= highest_x:\n",
    "                highest_x = x\n",
    "        \n",
    "    for i in range(len(csv_data)):\n",
    "        c = cell(i,\"country\")\n",
    "        if c == country:\n",
    "            x = cell(i,attr1)\n",
    "            if x == None:\n",
    "                continue\n",
    "            if x == highest_x:\n",
    "                highest_x = x \n",
    "                winery.append(cell(i,attr2))\n",
    "    \n",
    "    return winery\n",
    "\n",
    "q910(\"US\",\"price\",\"winery\")"
   ]
  },
  {
   "cell_type": "code",
   "execution_count": 13,
   "metadata": {},
   "outputs": [
    {
     "data": {
      "text/plain": [
       "['Hall']"
      ]
     },
     "execution_count": 13,
     "metadata": {},
     "output_type": "execute_result"
    }
   ],
   "source": [
    "#q9 \n",
    "q910(\"US\",\"price\",\"winery\")"
   ]
  },
  {
   "cell_type": "code",
   "execution_count": 14,
   "metadata": {},
   "outputs": [
    {
     "data": {
      "text/plain": [
       "['Provence red blend', 'Tannat', 'Malbec']"
      ]
     },
     "execution_count": 14,
     "metadata": {},
     "output_type": "execute_result"
    }
   ],
   "source": [
    "#q10\n",
    "q910(\"France\",\"points\",\"variety\")"
   ]
  },
  {
   "cell_type": "code",
   "execution_count": 15,
   "metadata": {},
   "outputs": [],
   "source": [
    "#what is the average points-per-dollar\n",
    "#(PPD) ratio of the \"Ponzi\" winery?\n",
    "def average_ppd(winery):\n",
    "    ppd = 0\n",
    "    average_ppd = 0\n",
    "    r = []\n",
    "    for i in range(len(csv_data)):\n",
    "        c = cell(i,\"winery\")\n",
    "        if c == winery:\n",
    "            x = cell(i,\"price\")\n",
    "            if x == None:\n",
    "                continue\n",
    "            dollar = cell(i,\"price\")\n",
    "            \n",
    "            y = cell(i,\"points\")\n",
    "            if y == None:\n",
    "                continue\n",
    "            points = cell(i,\"points\")\n",
    "            ppd = points/dollar\n",
    "            r.append(ppd)\n",
    "            \n",
    "    return sum(r) / len(r)\n",
    "average_ppd(\"Ponzi\")"
   ]
  },
  {
   "cell_type": "code",
   "execution_count": 16,
   "metadata": {},
   "outputs": [
    {
     "data": {
      "text/plain": [
       "1.288074888074888"
      ]
     },
     "execution_count": 16,
     "metadata": {},
     "output_type": "execute_result"
    }
   ],
   "source": [
    "#q11\n",
    "average_ppd(\"Ponzi\")"
   ]
  },
  {
   "cell_type": "code",
   "execution_count": 17,
   "metadata": {},
   "outputs": [
    {
     "data": {
      "text/plain": [
       "1.3628968253968254"
      ]
     },
     "execution_count": 17,
     "metadata": {},
     "output_type": "execute_result"
    }
   ],
   "source": [
    "#q12\n",
    "average_ppd(\"Blue Farm\")"
   ]
  },
  {
   "cell_type": "code",
   "execution_count": 18,
   "metadata": {},
   "outputs": [
    {
     "data": {
      "text/plain": [
       "['Neil Ellis',\n",
       " 'Waterkloof',\n",
       " 'Graham Beck',\n",
       " 'Long Neck',\n",
       " 'Vergelegen',\n",
       " 'Noble Hill',\n",
       " 'Essay',\n",
       " 'Robertson Winery',\n",
       " 'KWV',\n",
       " 'Bouchard Finlayson',\n",
       " 'Fat Barrel']"
      ]
     },
     "execution_count": 18,
     "metadata": {},
     "output_type": "execute_result"
    }
   ],
   "source": [
    "#q13\n",
    "r = []\n",
    "for i in range(len(csv_data)):\n",
    "    c = cell(i, \"country\")\n",
    "    if c == \"South Africa\":\n",
    "        r.append(cell(i,\"winery\"))\n",
    "r = list(set(r))\n",
    "r"
   ]
  },
  {
   "cell_type": "code",
   "execution_count": 19,
   "metadata": {},
   "outputs": [],
   "source": [
    "#q14"
   ]
  },
  {
   "cell_type": "code",
   "execution_count": 20,
   "metadata": {},
   "outputs": [],
   "source": [
    "#q15"
   ]
  },
  {
   "cell_type": "code",
   "execution_count": 21,
   "metadata": {},
   "outputs": [],
   "source": [
    "#which wine varieties are produced \n",
    "#by the \"Global Wines\" winery?\n",
    "def function(var):\n",
    "    r = []\n",
    "    for i in range(len(csv_data)):\n",
    "        c = cell(i,\"winery\")\n",
    "        if c == var:\n",
    "            r.append(cell(i,\"variety\"))\n",
    "    r = list(set(r))\n",
    "    return r\n",
    "\n",
    "function(\"Global Wines\")"
   ]
  },
  {
   "cell_type": "code",
   "execution_count": 22,
   "metadata": {},
   "outputs": [
    {
     "data": {
      "text/plain": [
       "['Portuguese Red', 'Touriga Nacional', 'Portuguese Sparkling']"
      ]
     },
     "execution_count": 22,
     "metadata": {},
     "output_type": "execute_result"
    }
   ],
   "source": [
    "#q16\n",
    "function(\"Global Wines\")"
   ]
  },
  {
   "cell_type": "code",
   "execution_count": 23,
   "metadata": {},
   "outputs": [
    {
     "data": {
      "text/plain": [
       "['Portuguese Red', 'Portuguese Rosé', 'Portuguese White']"
      ]
     },
     "execution_count": 23,
     "metadata": {},
     "output_type": "execute_result"
    }
   ],
   "source": [
    "#q17\n",
    "function(\"Quinta Nova de Nossa Senhora do Carmo\")"
   ]
  },
  {
   "cell_type": "code",
   "execution_count": 24,
   "metadata": {},
   "outputs": [],
   "source": [
    "#q18"
   ]
  },
  {
   "cell_type": "code",
   "execution_count": 25,
   "metadata": {},
   "outputs": [],
   "source": [
    "#what is the cost of cheapest wine \n",
    "#that you could find in US?\n",
    "def cheap(country,attr):\n",
    "    lowest_x = 100000000\n",
    "    winery = []\n",
    "    for i in range(len(csv_data)):\n",
    "        c = cell(i,\"country\")\n",
    "        if c == country:\n",
    "            x = cell(i,attr)\n",
    "            if x == None:\n",
    "                continue\n",
    "            if x <= lowest_x: \n",
    "                    lowest_x = x\n",
    "    \n",
    "    for i in range(len(csv_data)):\n",
    "        c = cell(i,\"country\")\n",
    "        if c == country:\n",
    "            x = cell(i,attr)\n",
    "            if x == None:\n",
    "                continue\n",
    "            if x == lowest_x:\n",
    "                    lowest_x = x \n",
    "                    price = cell(i,\"price\")\n",
    "    \n",
    "    return price\n",
    "cheap(\"US\",\"price\")"
   ]
  },
  {
   "cell_type": "code",
   "execution_count": 26,
   "metadata": {},
   "outputs": [
    {
     "data": {
      "text/plain": [
       "10.0"
      ]
     },
     "execution_count": 26,
     "metadata": {},
     "output_type": "execute_result"
    }
   ],
   "source": [
    "#q19\n",
    "cheap(\"US\",\"price\")"
   ]
  },
  {
   "cell_type": "code",
   "execution_count": 27,
   "metadata": {},
   "outputs": [],
   "source": [
    "def costliest(country,attr):\n",
    "    highest_x = 0\n",
    "    winery = []\n",
    "    for i in range(len(csv_data)):\n",
    "        c = cell(i,\"country\")\n",
    "        if c == country:\n",
    "            x = cell(i,attr)\n",
    "            if x == None:\n",
    "                continue\n",
    "            if x >= highest_x: \n",
    "                    highest_x = x\n",
    "    \n",
    "    for i in range(len(csv_data)):\n",
    "        c = cell(i,\"country\")\n",
    "        if c == country:\n",
    "            x = cell(i,attr)\n",
    "            if x == None:\n",
    "                continue\n",
    "            if x == highest_x:\n",
    "                    highest_x = x \n",
    "                    price = cell(i,\"price\")\n",
    "    \n",
    "    return price"
   ]
  },
  {
   "cell_type": "code",
   "execution_count": 28,
   "metadata": {},
   "outputs": [
    {
     "data": {
      "text/plain": [
       "335.0"
      ]
     },
     "execution_count": 28,
     "metadata": {},
     "output_type": "execute_result"
    }
   ],
   "source": [
    "#q20\n",
    "cheap(\"US\",\"price\")+ costliest(\"US\",\"price\")"
   ]
  }
 ],
 "metadata": {
  "kernelspec": {
   "display_name": "Python 3",
   "language": "python",
   "name": "python3"
  },
  "language_info": {
   "codemirror_mode": {
    "name": "ipython",
    "version": 3
   },
   "file_extension": ".py",
   "mimetype": "text/x-python",
   "name": "python",
   "nbconvert_exporter": "python",
   "pygments_lexer": "ipython3",
   "version": "3.7.4"
  }
 },
 "nbformat": 4,
 "nbformat_minor": 2
}
